{
 "cells": [
  {
   "cell_type": "markdown",
   "metadata": {},
   "source": [
    "使用JSON处理数据（存储字典）"
   ]
  },
  {
   "cell_type": "code",
   "execution_count": 1,
   "metadata": {},
   "outputs": [
    {
     "name": "stdout",
     "output_type": "stream",
     "text": [
      "原始字典内容: {'weight': 60, 'height': 76}\n",
      "序列化后内容: {\"weight\": 60, \"height\": 76}\n",
      "反序列化后内容: {'weight': 60, 'height': 76}\n"
     ]
    }
   ],
   "source": [
    "import json\n",
    "\n",
    "x=dict(height=76,weight=60)\n",
    "print('原始字典内容:',x)\n",
    "y =json.dumps(x)                   #使用dumps()\n",
    "print ('序列化后内容:',y)\n",
    "a =json.loads(y)                     #使用loads()\n",
    "print('反序列化后内容:',a)"
   ]
  },
  {
   "cell_type": "code",
   "execution_count": 2,
   "metadata": {},
   "outputs": [
    {
     "name": "stdout",
     "output_type": "stream",
     "text": [
      "{'weight': 60, 'height': 76}\n"
     ]
    }
   ],
   "source": [
    "f=open('Data/json/data.json','w+')\n",
    "json.dump(x,f)   #dump()保存文件\n",
    "f.close()\n",
    "\n",
    "f=open('Data/json/data.json','r')\n",
    "print(json.load(f))\n"
   ]
  },
  {
   "cell_type": "markdown",
   "metadata": {},
   "source": [
    "使用JSON处理数据（存储列表）"
   ]
  },
  {
   "cell_type": "code",
   "execution_count": 4,
   "metadata": {
    "collapsed": true
   },
   "outputs": [],
   "source": [
    "import json\n",
    "numbers=[2,3,5,7,11,13]\n",
    "filename='numbers.json'\n",
    "with open('Data/json/numbers.json','w+') as f_obj:\n",
    "    json.dump(numbers,f_obj)"
   ]
  },
  {
   "cell_type": "code",
   "execution_count": 5,
   "metadata": {},
   "outputs": [
    {
     "name": "stdout",
     "output_type": "stream",
     "text": [
      "[2, 3, 5, 7, 11, 13]\n"
     ]
    }
   ],
   "source": [
    "import json\n",
    "filename='numbers.json'\n",
    "with open('Data/json/numbers.json','r') as f_obj:\n",
    "    numbers2 = json.load(f_obj)\n",
    "print(numbers2)"
   ]
  },
  {
   "cell_type": "code",
   "execution_count": null,
   "metadata": {
    "collapsed": true
   },
   "outputs": [],
   "source": []
  }
 ],
 "metadata": {
  "kernelspec": {
   "display_name": "Python 3",
   "language": "python",
   "name": "python3"
  },
  "language_info": {
   "codemirror_mode": {
    "name": "ipython",
    "version": 3
   },
   "file_extension": ".py",
   "mimetype": "text/x-python",
   "name": "python",
   "nbconvert_exporter": "python",
   "pygments_lexer": "ipython3",
   "version": "3.6.4"
  }
 },
 "nbformat": 4,
 "nbformat_minor": 2
}
