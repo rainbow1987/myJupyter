{
 "cells": [
  {
   "cell_type": "markdown",
   "metadata": {},
   "source": [
    "简单消息：将一条消息（如：Welcome to Python’s world!）存储到变量中，再讲其打印出来。"
   ]
  },
  {
   "cell_type": "code",
   "execution_count": 5,
   "metadata": {},
   "outputs": [
    {
     "name": "stdout",
     "output_type": "stream",
     "text": [
      "Welcome to Python's world!\n"
     ]
    }
   ],
   "source": [
    "msg = \"Welcome to Python's world!\"\n",
    "print(msg)\n"
   ]
  },
  {
   "cell_type": "markdown",
   "metadata": {},
   "source": [
    "将你最喜欢的数字存储在一个变量中，再使用这个变量创建一条消息，指出你最喜欢的数字，然后将这条消息打印出来(例如：My favorite number is 8)。 "
   ]
  },
  {
   "cell_type": "code",
   "execution_count": 7,
   "metadata": {},
   "outputs": [
    {
     "name": "stdout",
     "output_type": "stream",
     "text": [
      "My favorite number is 8.\n"
     ]
    }
   ],
   "source": [
    "fav_num = 8\n",
    "msg = \"My favorite number is \" + str(fav_num) + \".\"\n",
    "\n",
    "print(msg)"
   ]
  },
  {
   "cell_type": "markdown",
   "metadata": {},
   "source": [
    "将一些朋友的姓名存储在一个列表中，并将其命名为names 。依次访问该列表中的每个元素，从而将每个朋友的姓名都打印出来。"
   ]
  },
  {
   "cell_type": "code",
   "execution_count": 8,
   "metadata": {},
   "outputs": [
    {
     "name": "stdout",
     "output_type": "stream",
     "text": [
      "ron\n",
      "tyler\n",
      "dani\n"
     ]
    }
   ],
   "source": [
    "names = ['ron', 'tyler', 'dani']\n",
    "\n",
    "print(names[0])\n",
    "print(names[1])\n",
    "print(names[2])\n"
   ]
  },
  {
   "cell_type": "markdown",
   "metadata": {},
   "source": [
    "思考题4-3-2：使用append()方法对上一练习中已创建的列表names进行添加元素操作，并打印结果 。然后使用和pop()方法进行删除元素操作，并打印结果。\n",
    "\n"
   ]
  },
  {
   "cell_type": "code",
   "execution_count": 9,
   "metadata": {},
   "outputs": [
    {
     "name": "stdout",
     "output_type": "stream",
     "text": [
      "['ron', 'tyler', 'dani', 'jack']\n",
      "['ron', 'tyler', 'dani']\n"
     ]
    }
   ],
   "source": [
    "names.append('jack')\n",
    "print(names)\n",
    "names.pop()\n",
    "print(names)"
   ]
  },
  {
   "cell_type": "markdown",
   "metadata": {},
   "source": [
    "1数到10：使用一个for循环打印数字1~10（包含10）."
   ]
  },
  {
   "cell_type": "code",
   "execution_count": 10,
   "metadata": {},
   "outputs": [
    {
     "name": "stdout",
     "output_type": "stream",
     "text": [
      "1\n",
      "2\n",
      "3\n",
      "4\n",
      "5\n",
      "6\n",
      "7\n",
      "8\n",
      "9\n",
      "10\n"
     ]
    }
   ],
   "source": [
    "numbers = list(range(1, 11))\n",
    "\n",
    "for number in numbers:\n",
    "    print(number)\n"
   ]
  },
  {
   "cell_type": "markdown",
   "metadata": {},
   "source": [
    "计算1~1 000 000的总和 ：创建一个列表，其中包含数字1~1 000 000，再使用min() 和max() 核实该列表确实是从1开始，到1 000 000结束的。另外，对这个列表 调用函数sum() ，看看Python将一百万个数字相加需要多长时间。 "
   ]
  },
  {
   "cell_type": "code",
   "execution_count": 11,
   "metadata": {},
   "outputs": [
    {
     "name": "stdout",
     "output_type": "stream",
     "text": [
      "1\n",
      "1000000\n",
      "500000500000\n"
     ]
    }
   ],
   "source": [
    "numbers = list(range(1, 1000001))\n",
    "\n",
    "print(min(numbers))\n",
    "print(max(numbers))\n",
    "print(sum(numbers))\n"
   ]
  },
  {
   "cell_type": "markdown",
   "metadata": {},
   "source": [
    "LTE网络中用eNodeBid标识基站号，ci标识小区号，而ECI=eNodeBid×256+ci，请编写一个函数实现输入ECI返回对于的eNodeBid和ci号的功能，并测试该函数是否实现了预期的功能。"
   ]
  },
  {
   "cell_type": "code",
   "execution_count": 3,
   "metadata": {},
   "outputs": [
    {
     "data": {
      "text/plain": [
       "(1, 2)"
      ]
     },
     "execution_count": 3,
     "metadata": {},
     "output_type": "execute_result"
    }
   ],
   "source": [
    "def ECI2Eid(a):\n",
    "    return (a//256,a%256)\n",
    "ECI2Eid(258)"
   ]
  },
  {
   "cell_type": "markdown",
   "metadata": {},
   "source": [
    "编写一个名为cell的类实现将上一小节输入ECI返回eNodeBid和ci号的功能."
   ]
  },
  {
   "cell_type": "code",
   "execution_count": 4,
   "metadata": {},
   "outputs": [
    {
     "data": {
      "text/plain": [
       "1"
      ]
     },
     "execution_count": 4,
     "metadata": {},
     "output_type": "execute_result"
    }
   ],
   "source": [
    "class cell:\n",
    "    def __init__(self,eci) :\n",
    "        self.eci = eci \n",
    "\n",
    "    def get_eid(self):\n",
    "        return self.eci//256\n",
    "    def get_ci(self):\n",
    "        return self.eci%256\n",
    "cell1=cell(258)\n",
    "cell.get_eid(cell1)\n",
    "\n",
    "        "
   ]
  },
  {
   "cell_type": "markdown",
   "metadata": {},
   "source": [
    "思考题5-2-1：选取一个你所感兴趣的Python第三方模块，import该模块（例如：numpy），并使用help()方法了解该模块的功能和使用方法。"
   ]
  },
  {
   "cell_type": "code",
   "execution_count": 4,
   "metadata": {},
   "outputs": [
    {
     "name": "stdout",
     "output_type": "stream",
     "text": [
      "Help on package pandas:\n",
      "\n",
      "NAME\n",
      "    pandas\n",
      "\n",
      "DESCRIPTION\n",
      "    pandas - a powerful data analysis and manipulation library for Python\n",
      "    =====================================================================\n",
      "    \n",
      "    **pandas** is a Python package providing fast, flexible, and expressive data\n",
      "    structures designed to make working with \"relational\" or \"labeled\" data both\n",
      "    easy and intuitive. It aims to be the fundamental high-level building block for\n",
      "    doing practical, **real world** data analysis in Python. Additionally, it has\n",
      "    the broader goal of becoming **the most powerful and flexible open source data\n",
      "    analysis / manipulation tool available in any language**. It is already well on\n",
      "    its way toward this goal.\n",
      "    \n",
      "    Main Features\n",
      "    -------------\n",
      "    Here are just a few of the things that pandas does well:\n",
      "    \n",
      "      - Easy handling of missing data in floating point as well as non-floating\n",
      "        point data\n",
      "      - Size mutability: columns can be inserted and deleted from DataFrame and\n",
      "        higher dimensional objects\n",
      "      - Automatic and explicit data alignment: objects can  be explicitly aligned\n",
      "        to a set of labels, or the user can simply ignore the labels and let\n",
      "        `Series`, `DataFrame`, etc. automatically align the data for you in\n",
      "        computations\n",
      "      - Powerful, flexible group by functionality to perform split-apply-combine\n",
      "        operations on data sets, for both aggregating and transforming data\n",
      "      - Make it easy to convert ragged, differently-indexed data in other Python\n",
      "        and NumPy data structures into DataFrame objects\n",
      "      - Intelligent label-based slicing, fancy indexing, and subsetting of large\n",
      "        data sets\n",
      "      - Intuitive merging and joining data sets\n",
      "      - Flexible reshaping and pivoting of data sets\n",
      "      - Hierarchical labeling of axes (possible to have multiple labels per tick)\n",
      "      - Robust IO tools for loading data from flat files (CSV and delimited),\n",
      "        Excel files, databases, and saving/loading data from the ultrafast HDF5\n",
      "        format\n",
      "      - Time series-specific functionality: date range generation and frequency\n",
      "        conversion, moving window statistics, moving window linear regressions,\n",
      "        date shifting and lagging, etc.\n",
      "\n",
      "PACKAGE CONTENTS\n",
      "    _libs (package)\n",
      "    _version\n",
      "    api (package)\n",
      "    compat (package)\n",
      "    computation (package)\n",
      "    conftest\n",
      "    core (package)\n",
      "    errors (package)\n",
      "    formats (package)\n",
      "    io (package)\n",
      "    json\n",
      "    lib\n",
      "    parser\n",
      "    plotting (package)\n",
      "    stats (package)\n",
      "    testing\n",
      "    tests (package)\n",
      "    tools (package)\n",
      "    tseries (package)\n",
      "    tslib\n",
      "    types (package)\n",
      "    util (package)\n",
      "\n",
      "SUBMODULES\n",
      "    _hashtable\n",
      "    _lib\n",
      "    _tslib\n",
      "    offsets\n",
      "\n",
      "DATA\n",
      "    IndexSlice = <pandas.core.indexing._IndexSlice object>\n",
      "    NaT = NaT\n",
      "    __docformat__ = 'restructuredtext'\n",
      "    datetools = <module 'pandas.core.datetools' from 'd:\\\\Progra...\\lib\\\\s...\n",
      "    describe_option = <pandas.core.config.CallableDynamicDoc object>\n",
      "    get_option = <pandas.core.config.CallableDynamicDoc object>\n",
      "    options = <pandas.core.config.DictWrapper object>\n",
      "    plot_params = {'xaxis.compat': False}\n",
      "    reset_option = <pandas.core.config.CallableDynamicDoc object>\n",
      "    set_option = <pandas.core.config.CallableDynamicDoc object>\n",
      "\n",
      "VERSION\n",
      "    0.22.0\n",
      "\n",
      "FILE\n",
      "    d:\\programdata\\anaconda3\\lib\\site-packages\\pandas\\__init__.py\n",
      "\n",
      "\n"
     ]
    }
   ],
   "source": [
    "import pandas as pd\n",
    "help(pd)"
   ]
  },
  {
   "cell_type": "markdown",
   "metadata": {},
   "source": [
    "思考题5-2-2：使用Pandas的read_excel()或read_csv()方法打开您实际工作中需要进行数据分析的一张excle表。"
   ]
  },
  {
   "cell_type": "code",
   "execution_count": 6,
   "metadata": {},
   "outputs": [
    {
     "data": {
      "text/html": [
       "<div>\n",
       "<style scoped>\n",
       "    .dataframe tbody tr th:only-of-type {\n",
       "        vertical-align: middle;\n",
       "    }\n",
       "\n",
       "    .dataframe tbody tr th {\n",
       "        vertical-align: top;\n",
       "    }\n",
       "\n",
       "    .dataframe thead th {\n",
       "        text-align: right;\n",
       "    }\n",
       "</style>\n",
       "<table border=\"1\" class=\"dataframe\">\n",
       "  <thead>\n",
       "    <tr style=\"text-align: right;\">\n",
       "      <th></th>\n",
       "      <th>基站ID</th>\n",
       "      <th>省份代码</th>\n",
       "      <th>省</th>\n",
       "      <th>地市代码</th>\n",
       "      <th>地市</th>\n",
       "      <th>严重卡顿局数占比</th>\n",
       "      <th>总局数</th>\n",
       "      <th>日卡顿用户数</th>\n",
       "      <th>卡顿集中时段</th>\n",
       "      <th>数据报表日期</th>\n",
       "    </tr>\n",
       "  </thead>\n",
       "  <tbody>\n",
       "    <tr>\n",
       "      <th>0</th>\n",
       "      <td>460_01_33043_118100257</td>\n",
       "      <td>81</td>\n",
       "      <td>四川</td>\n",
       "      <td>28</td>\n",
       "      <td>成都</td>\n",
       "      <td>0.0</td>\n",
       "      <td>12</td>\n",
       "      <td>0</td>\n",
       "      <td>18</td>\n",
       "      <td>20180221</td>\n",
       "    </tr>\n",
       "    <tr>\n",
       "      <th>1</th>\n",
       "      <td>460_01_33045_118669089</td>\n",
       "      <td>81</td>\n",
       "      <td>四川</td>\n",
       "      <td>28</td>\n",
       "      <td>成都</td>\n",
       "      <td>0.0</td>\n",
       "      <td>15</td>\n",
       "      <td>0</td>\n",
       "      <td>12</td>\n",
       "      <td>20180221</td>\n",
       "    </tr>\n",
       "    <tr>\n",
       "      <th>2</th>\n",
       "      <td>460_01_33042_118208288</td>\n",
       "      <td>81</td>\n",
       "      <td>四川</td>\n",
       "      <td>28</td>\n",
       "      <td>成都</td>\n",
       "      <td>0.0</td>\n",
       "      <td>8</td>\n",
       "      <td>0</td>\n",
       "      <td>18</td>\n",
       "      <td>20180221</td>\n",
       "    </tr>\n",
       "  </tbody>\n",
       "</table>\n",
       "</div>"
      ],
      "text/plain": [
       "                     基站ID  省份代码   省  地市代码  地市  严重卡顿局数占比  总局数  日卡顿用户数  卡顿集中时段  \\\n",
       "0  460_01_33043_118100257    81  四川    28  成都       0.0   12       0      18   \n",
       "1  460_01_33045_118669089    81  四川    28  成都       0.0   15       0      12   \n",
       "2  460_01_33042_118208288    81  四川    28  成都       0.0    8       0      18   \n",
       "\n",
       "     数据报表日期  \n",
       "0  20180221  \n",
       "1  20180221  \n",
       "2  20180221  "
      ]
     },
     "execution_count": 6,
     "metadata": {},
     "output_type": "execute_result"
    }
   ],
   "source": [
    "import pandas as pd\n",
    "df = pd.read_csv('game_data.csv',encoding='gbk')\n",
    "df.head(3)"
   ]
  }
 ],
 "metadata": {
  "kernelspec": {
   "display_name": "Python 3",
   "language": "python",
   "name": "python3"
  },
  "language_info": {
   "codemirror_mode": {
    "name": "ipython",
    "version": 3
   },
   "file_extension": ".py",
   "mimetype": "text/x-python",
   "name": "python",
   "nbconvert_exporter": "python",
   "pygments_lexer": "ipython3",
   "version": "3.6.4"
  }
 },
 "nbformat": 4,
 "nbformat_minor": 2
}
