{
 "cells": [
  {
   "cell_type": "markdown",
   "metadata": {},
   "source": [
    "#### 读文件"
   ]
  },
  {
   "cell_type": "code",
   "execution_count": 1,
   "metadata": {},
   "outputs": [
    {
     "data": {
      "text/plain": [
       "'d:\\\\JupterHome\\\\scit'"
      ]
     },
     "execution_count": 1,
     "metadata": {},
     "output_type": "execute_result"
    }
   ],
   "source": [
    "import os\n",
    "os.getcwd() #查看工作目录"
   ]
  },
  {
   "cell_type": "code",
   "execution_count": 2,
   "metadata": {},
   "outputs": [],
   "source": [
    "os.chdir('D:\\\\JupterHome\\\\scit') #切换工作目录"
   ]
  },
  {
   "cell_type": "code",
   "execution_count": 4,
   "metadata": {},
   "outputs": [
    {
     "name": "stdout",
     "output_type": "stream",
     "text": [
      "abcdabcd\n"
     ]
    }
   ],
   "source": [
    "#!/usr/bin/env python3\n",
    "# -*- coding: utf-8 -*-\n",
    "#读文件，方法1\n",
    "f = open('Data\\\\iotest\\\\test1.txt', 'r')\n",
    "\n",
    "print(f.read())\n",
    "f.close()"
   ]
  },
  {
   "cell_type": "code",
   "execution_count": 5,
   "metadata": {},
   "outputs": [
    {
     "name": "stdout",
     "output_type": "stream",
     "text": [
      "abcdabcd\n"
     ]
    }
   ],
   "source": [
    "#读文件，方法2\n",
    "with open('Data\\iotest\\\\test1.txt', 'r') as f:\n",
    "    print(f.read())"
   ]
  },
  {
   "cell_type": "markdown",
   "metadata": {},
   "source": [
    "### 写文件\n",
    "以'w'模式写入文件时，如果文件已存在，会直接覆盖（相当于删掉后新写入一个文件）"
   ]
  },
  {
   "cell_type": "code",
   "execution_count": 9,
   "metadata": {},
   "outputs": [],
   "source": [
    "#以'w'模式写入文件时，如果文件已存在，会直接覆盖\n",
    "with open('test1.txt', 'w') as f:\n",
    "    f.write('abcd')"
   ]
  },
  {
   "cell_type": "markdown",
   "metadata": {},
   "source": []
  },
  {
   "cell_type": "code",
   "execution_count": 10,
   "metadata": {},
   "outputs": [],
   "source": [
    "#传入'a'以追加（append）模式写入\n",
    "with open('test1.txt', 'a') as f:  \n",
    "    f.write('abcd')"
   ]
  },
  {
   "cell_type": "markdown",
   "metadata": {},
   "source": [
    "示例：在txt文件中记录每一次运行程序的时间"
   ]
  },
  {
   "cell_type": "code",
   "execution_count": 72,
   "metadata": {},
   "outputs": [
    {
     "name": "stdout",
     "output_type": "stream",
     "text": [
      "open for read...\n",
      "现在的时间是2018-03-06 16:36:55 运行了一次程序\n",
      "现在的时间是2018-03-06 16:36:57 运行了一次程序\n",
      "现在的时间是2018-03-06 16:36:57 运行了一次程序\n",
      "\n"
     ]
    }
   ],
   "source": [
    "#!/usr/bin/env python3\n",
    "# -*- coding: utf-8 -*-\n",
    "\n",
    "from datetime import datetime\n",
    "\n",
    "with open('test2.txt', 'a') as f:\n",
    "    f.write('现在的时间是')\n",
    "    f.write(datetime.now().strftime('%Y-%m-%d %H:%M:%S'))\n",
    "    f.write(' 运行了一次程序\\n')\n",
    "\n",
    "with open('test2.txt', 'r') as f:\n",
    "    s = f.read()\n",
    "    print('open for read...')\n",
    "    print(s)\n",
    "\n"
   ]
  },
  {
   "cell_type": "code",
   "execution_count": 93,
   "metadata": {},
   "outputs": [
    {
     "name": "stdout",
     "output_type": "stream",
     "text": [
      "please input the name of rnc with '':CDRNC5A\n",
      "192.168.5.10\n"
     ]
    }
   ],
   "source": [
    "#本程序输入服务器名称（如\"CDRNC5A\",需要大写），输出该服务器对应的host地址，并记录该一次查询\n",
    "\n",
    "#将rnc.txt文件中的数按行读入列表cdcdrnc中\n",
    "\n",
    "cdrnc =[]\n",
    "with open('Data\\\\iplist\\\\rnc.txt','r') as rncs:\n",
    "    for line in rncs.readlines():\n",
    "        #print line.strip()\n",
    "        cdrnc.append(line.strip()) \n",
    "    \n",
    "\n",
    "\n",
    "#将host.txt文件中的数按行读入列表cdhost中\n",
    "\n",
    "cdhost =[]\n",
    "with open('Data\\iplist\\\\host.txt','r') as hosts:\n",
    "    for line in hosts.readlines():\n",
    "        #print line.strip()\n",
    "        cdhost.append(line.strip()) \n",
    "        \n",
    "r = input(\"please input the name of rnc with '':\")\n",
    "a =cdrnc.index(r)\n",
    "\n",
    "    \n",
    "\n",
    "\n",
    "#记录查询情况\n",
    "\n",
    "print (cdhost[a])\n",
    "\n",
    "from datetime import datetime\n",
    "with open('Data\\iplist\\\\log.txt','a') as logs:\n",
    "    logs.write(datetime.now().strftime('%Y-%m-%d')+\"|\"+datetime.now().strftime('%H:%M:%S')+\"|\"+cdrnc[a]+\"|\"+cdhost[a]+'\\n')"
   ]
  },
  {
   "cell_type": "code",
   "execution_count": null,
   "metadata": {
    "collapsed": true
   },
   "outputs": [],
   "source": []
  }
 ],
 "metadata": {
  "kernelspec": {
   "display_name": "Python 3",
   "language": "python",
   "name": "python3"
  },
  "language_info": {
   "codemirror_mode": {
    "name": "ipython",
    "version": 3
   },
   "file_extension": ".py",
   "mimetype": "text/x-python",
   "name": "python",
   "nbconvert_exporter": "python",
   "pygments_lexer": "ipython3",
   "version": "3.6.4"
  }
 },
 "nbformat": 4,
 "nbformat_minor": 1
}
