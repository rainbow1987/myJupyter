{
 "cells": [
  {
   "cell_type": "markdown",
   "metadata": {},
   "source": [
    "### 以下为段简单的爬虫代码"
   ]
  },
  {
   "cell_type": "code",
   "execution_count": 1,
   "metadata": {},
   "outputs": [
    {
     "name": "stdout",
     "output_type": "stream",
     "text": [
      "小萝莉的猴神大叔 Bajrangi Bhaijaan 8.6\n"
     ]
    }
   ],
   "source": [
    "# -*- coding: utf-8 -*-\n",
    "\n",
    "from bs4 import BeautifulSoup\n",
    "import requests\n",
    "response =requests.get(\"https://movie.douban.com/subject/26393561/?from=showing\")\n",
    "bs=BeautifulSoup(response.text,\"lxml\")\n",
    "\n",
    "name=bs.find(\"span\",attrs={\"property\":\"v:itemreviewed\"}).text\n",
    "score=bs.find(\"strong\",attrs={\"property\":\"v:average\"}).text\n",
    "summary=bs.find(\"div\",id=\"link-report\").text.strip()\n",
    "\n",
    "print (name,score)"
   ]
  }
 ],
 "metadata": {
  "kernelspec": {
   "display_name": "Python 3",
   "language": "python",
   "name": "python3"
  },
  "language_info": {
   "codemirror_mode": {
    "name": "ipython",
    "version": 3
   },
   "file_extension": ".py",
   "mimetype": "text/x-python",
   "name": "python",
   "nbconvert_exporter": "python",
   "pygments_lexer": "ipython3",
   "version": "3.6.4"
  }
 },
 "nbformat": 4,
 "nbformat_minor": 1
}
