{
 "cells": [
  {
   "cell_type": "markdown",
   "metadata": {},
   "source": [
    "Python语言中，使用 # 进行行注释啊"
   ]
  },
  {
   "cell_type": "code",
   "execution_count": 1,
   "metadata": {
    "collapsed": false
   },
   "outputs": [
    {
     "name": "stdout",
     "output_type": "stream",
     "text": [
      "hello,world\n"
     ]
    }
   ],
   "source": [
    "#这是一个代码前的注释\n",
    "print(\"hello,world\") #这是一个代码中的注释\n",
    "#这是一个代码后的注释"
   ]
  },
  {
   "cell_type": "markdown",
   "metadata": {},
   "source": [
    "## 基础数据类型\n",
    "\n",
    "- int: 整数，如1, 2, 3\n",
    "\n",
    "\n",
    "- float: 浮点数，如2.3, 3.6\n",
    "\n",
    "\n",
    "- bool: 布尔，包括True, False\n",
    "\n",
    "\n",
    "- str: 字符串，如'12.3', 'abcd'\n",
    "    "
   ]
  },
  {
   "cell_type": "code",
   "execution_count": 10,
   "metadata": {
    "collapsed": false
   },
   "outputs": [
    {
     "name": "stdout",
     "output_type": "stream",
     "text": [
      "<class 'int'>\n",
      "<class 'float'>\n",
      "<class 'bool'> <class 'bool'>\n",
      "<class 'str'> <class 'str'>\n"
     ]
    }
   ],
   "source": [
    "print(type(1))\n",
    "print(type(2.3))\n",
    "print(type(True),type(False))\n",
    "print(type(\"abcd\"),type('abcd'))\n"
   ]
  },
  {
   "cell_type": "markdown",
   "metadata": {},
   "source": [
    " 基本运算 "
   ]
  },
  {
   "cell_type": "code",
   "execution_count": 6,
   "metadata": {
    "collapsed": false
   },
   "outputs": [
    {
     "data": {
      "text/plain": [
       "2.5"
      ]
     },
     "execution_count": 6,
     "metadata": {},
     "output_type": "execute_result"
    }
   ],
   "source": [
    "5 / 2"
   ]
  },
  {
   "cell_type": "code",
   "execution_count": 17,
   "metadata": {
    "collapsed": false
   },
   "outputs": [
    {
     "data": {
      "text/plain": [
       "1"
      ]
     },
     "execution_count": 17,
     "metadata": {},
     "output_type": "execute_result"
    }
   ],
   "source": [
    "# 普通floor除法\n",
    "8//5"
   ]
  },
  {
   "cell_type": "markdown",
   "metadata": {},
   "source": [
    "- 逻辑表达式"
   ]
  },
  {
   "cell_type": "code",
   "execution_count": 29,
   "metadata": {
    "collapsed": false
   },
   "outputs": [
    {
     "name": "stdout",
     "output_type": "stream",
     "text": [
      "False\n",
      "False\n",
      "False\n",
      "True\n",
      "True\n",
      "True\n",
      "False\n"
     ]
    }
   ],
   "source": [
    "print(1 > 1) \n",
    "print(1 < 1)\n",
    "print(1 < 1)\n",
    "print(1 >= 1)\n",
    "print(1 <= 1)\n",
    "print(1 == 1)\n",
    "print(1 != 1)"
   ]
  },
  {
   "cell_type": "markdown",
   "metadata": {},
   "source": [
    "- 逻辑运算："
   ]
  },
  {
   "cell_type": "code",
   "execution_count": 22,
   "metadata": {
    "collapsed": false
   },
   "outputs": [
    {
     "name": "stdout",
     "output_type": "stream",
     "text": [
      "False\n",
      "False\n",
      "False\n"
     ]
    }
   ],
   "source": [
    "print(True and False)\n",
    "print(False or False)\n",
    "print(not True)"
   ]
  },
  {
   "cell_type": "markdown",
   "metadata": {},
   "source": [
    "- 字符串加法运算：叠加字符"
   ]
  },
  {
   "cell_type": "code",
   "execution_count": 23,
   "metadata": {
    "collapsed": false
   },
   "outputs": [
    {
     "name": "stdout",
     "output_type": "stream",
     "text": [
      "123456\n",
      "1233\n",
      "123123123\n"
     ]
    }
   ],
   "source": [
    "print('123' + '456')\n",
    "print('123' + str(3))\n",
    "print('123' * 3)"
   ]
  },
  {
   "cell_type": "markdown",
   "metadata": {},
   "source": [
    "- 格式化字符串 "
   ]
  },
  {
   "cell_type": "code",
   "execution_count": 27,
   "metadata": {
    "collapsed": false
   },
   "outputs": [
    {
     "name": "stdout",
     "output_type": "stream",
     "text": [
      "5 + 2 = 7\n",
      "5 - 2 = 3\n",
      "5 * 2 = 10\n",
      "5 / 2 = 2.5\n",
      "5 % 2 = 1\n",
      "5 ** 2.0 = 25\n",
      "5 // 2 = 2\n"
     ]
    }
   ],
   "source": [
    "# %s, %d, %f 是占位符，可在其后补充需要的字符\n",
    "# %s: 字符\n",
    "# %d: 整数\n",
    "# %f: 浮点数\n",
    "print(\"5 + 2 = %d\" %(5 + 2)) #加法\n",
    "print(\"5 - 2 = %d\" %(5 - 2)) #减法\n",
    "print(\"5 * 2 = %d\" %(5 * 2))  #乘法\n",
    "print(\"5 / 2 = %s\" %(5 / 2))  # 除法\n",
    "print(\"5 %% 2 = %d\" %(5 % 2))       # 模\n",
    "print(\"5 ** 2.0 = %d\" %(5 ** 2.0)) #指数\n",
    "print(\"5 // 2 = %d\" %(5 / 2))   # 取商"
   ]
  },
  {
   "cell_type": "markdown",
   "metadata": {},
   "source": [
    "## 变量和变量赋值原理"
   ]
  },
  {
   "cell_type": "code",
   "execution_count": 3,
   "metadata": {
    "collapsed": false
   },
   "outputs": [
    {
     "name": "stdout",
     "output_type": "stream",
     "text": [
      "1 1 505991584 505991584\n",
      "1 2 505991584 505991600\n"
     ]
    }
   ],
   "source": [
    "a = 1\n",
    "b = a\n",
    "print(a,b,id(a),id(b))  # id() 查看变量内存地址\n",
    "b = 2\n",
    "print(a,b,id(a),id(b))"
   ]
  },
  {
   "cell_type": "markdown",
   "metadata": {},
   "source": [
    "变量类型转换"
   ]
  },
  {
   "cell_type": "code",
   "execution_count": 2,
   "metadata": {
    "collapsed": false
   },
   "outputs": [
    {
     "name": "stdout",
     "output_type": "stream",
     "text": [
      "<class 'float'> 1.0\n",
      "<class 'int'> 2\n",
      "<class 'str'> True\n",
      "<class 'bool'> True\n"
     ]
    }
   ],
   "source": [
    "a = float(1)\n",
    "b = int(2.3)\n",
    "c = str(True)\n",
    "d = bool('test')\n",
    "print(type(a),a)   #打印a的类型和a的值\n",
    "print(type(b),b)\n",
    "print(type(c),c)\n",
    "print(type(d),d)"
   ]
  }
 ],
 "metadata": {
  "kernelspec": {
   "display_name": "Python 3",
   "language": "python",
   "name": "python3"
  },
  "language_info": {
   "codemirror_mode": {
    "name": "ipython",
    "version": 3
   },
   "file_extension": ".py",
   "mimetype": "text/x-python",
   "name": "python",
   "nbconvert_exporter": "python",
   "pygments_lexer": "ipython3",
   "version": "3.4.3"
  }
 },
 "nbformat": 4,
 "nbformat_minor": 1
}
