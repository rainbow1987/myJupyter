{
 "cells": [
  {
   "cell_type": "markdown",
   "metadata": {},
   "source": [
    "操作题：\n",
    "编写一个python程序实现以下功能：\n",
    "1）将您的手机号x取10000的余数得到一个整数y，求1到y（包含y）的和z；\n",
    "2）利用内置模块time查询当前时间并保存在变量t中,t的格式为\"%Y-%m-%d %X\"\n",
    "3）利用内置函数open将t、x、y、z的值（值之间用竖线\"|\"分割）保存到一个txt文档，每次运行的结果以追加方式换行保存。\n",
    "\n",
    "\n",
    "举例：\n",
    "假设你的手机号x=18602808628时，y=8628，z=37225506，t=2018-03-24 22:14:55\n",
    "文档18602808628.txt中保存的内容如下：\n",
    "2018-03-24 22:14:55|18602808628|8628|37225506\n",
    "2018-03-24 22:15:25|18602808628|8628|37225506\n"
   ]
  },
  {
   "cell_type": "code",
   "execution_count": 2,
   "metadata": {},
   "outputs": [
    {
     "name": "stdout",
     "output_type": "stream",
     "text": [
      "37225506\n",
      "2018-03-28 18:59:41\n"
     ]
    }
   ],
   "source": [
    "import time\n",
    "a=0\n",
    "for i in range(8628+1):\n",
    "    a+=i\n",
    "print(a)\n",
    "t=time.strftime(\"%Y-%m-%d %X\")\n",
    "print(time.strftime(\"%Y-%m-%d %X\"))\n",
    "with open ('18602808628.txt','a') as f:\n",
    "    f.write(t+'|'+'18602808628'+'|'+'8628'+'|'+'37225506'+'\\n')"
   ]
  }
 ],
 "metadata": {
  "kernelspec": {
   "display_name": "Python 3",
   "language": "python",
   "name": "python3"
  },
  "language_info": {
   "codemirror_mode": {
    "name": "ipython",
    "version": 3
   },
   "file_extension": ".py",
   "mimetype": "text/x-python",
   "name": "python",
   "nbconvert_exporter": "python",
   "pygments_lexer": "ipython3",
   "version": "3.6.4"
  }
 },
 "nbformat": 4,
 "nbformat_minor": 2
}
