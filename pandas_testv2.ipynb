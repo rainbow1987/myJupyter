{
 "cells": [
  {
   "cell_type": "code",
   "execution_count": 1,
   "metadata": {
    "collapsed": false
   },
   "outputs": [
    {
     "data": {
      "text/html": [
       "<div style=\"max-height:1000px;max-width:1500px;overflow:auto;\">\n",
       "<table border=\"1\" class=\"dataframe\">\n",
       "  <thead>\n",
       "    <tr style=\"text-align: right;\">\n",
       "      <th></th>\n",
       "      <th>基站ID</th>\n",
       "      <th>省份代码</th>\n",
       "      <th>省</th>\n",
       "      <th>地市代码</th>\n",
       "      <th>地市</th>\n",
       "      <th>严重卡顿局数占比</th>\n",
       "      <th>总局数</th>\n",
       "      <th>日卡顿用户数</th>\n",
       "      <th>卡顿集中时段</th>\n",
       "      <th>数据报表日期</th>\n",
       "    </tr>\n",
       "  </thead>\n",
       "  <tbody>\n",
       "    <tr>\n",
       "      <th>0</th>\n",
       "      <td> 460_01_33043_118100257</td>\n",
       "      <td> 81</td>\n",
       "      <td> 四川</td>\n",
       "      <td> 28</td>\n",
       "      <td> 成都</td>\n",
       "      <td> 0</td>\n",
       "      <td> 12</td>\n",
       "      <td> 0</td>\n",
       "      <td> 18</td>\n",
       "      <td> 20180221</td>\n",
       "    </tr>\n",
       "    <tr>\n",
       "      <th>1</th>\n",
       "      <td> 460_01_33045_118669089</td>\n",
       "      <td> 81</td>\n",
       "      <td> 四川</td>\n",
       "      <td> 28</td>\n",
       "      <td> 成都</td>\n",
       "      <td> 0</td>\n",
       "      <td> 15</td>\n",
       "      <td> 0</td>\n",
       "      <td> 12</td>\n",
       "      <td> 20180221</td>\n",
       "    </tr>\n",
       "    <tr>\n",
       "      <th>2</th>\n",
       "      <td> 460_01_33042_118208288</td>\n",
       "      <td> 81</td>\n",
       "      <td> 四川</td>\n",
       "      <td> 28</td>\n",
       "      <td> 成都</td>\n",
       "      <td> 0</td>\n",
       "      <td>  8</td>\n",
       "      <td> 0</td>\n",
       "      <td> 18</td>\n",
       "      <td> 20180221</td>\n",
       "    </tr>\n",
       "  </tbody>\n",
       "</table>\n",
       "</div>"
      ],
      "text/plain": [
       "                     基站ID  省份代码   省  地市代码  地市  严重卡顿局数占比  总局数  日卡顿用户数  卡顿集中时段  \\\n",
       "0  460_01_33043_118100257    81  四川    28  成都         0   12       0      18   \n",
       "1  460_01_33045_118669089    81  四川    28  成都         0   15       0      12   \n",
       "2  460_01_33042_118208288    81  四川    28  成都         0    8       0      18   \n",
       "\n",
       "     数据报表日期  \n",
       "0  20180221  \n",
       "1  20180221  \n",
       "2  20180221  "
      ]
     },
     "execution_count": 1,
     "metadata": {},
     "output_type": "execute_result"
    }
   ],
   "source": [
    "import pandas as pd\n",
    "df = pd.read_csv('Data/game/game_data.csv',encoding='gbk')\n",
    "df.head(3)\n"
   ]
  },
  {
   "cell_type": "code",
   "execution_count": 2,
   "metadata": {
    "collapsed": false,
    "scrolled": true
   },
   "outputs": [
    {
     "name": "stdout",
     "output_type": "stream",
     "text": [
      "地市\n",
      "乐山           1872\n",
      "内江           2044\n",
      "凉山彝族自治州      2011\n",
      "南充           5194\n",
      "宜宾           4280\n",
      "巴中           2532\n",
      "广元           1798\n",
      "广安           3106\n",
      "德阳           1445\n",
      "成都           8552\n",
      "攀枝花           957\n",
      "泸州           2758\n",
      "甘孜藏族自治州       268\n",
      "眉山           1695\n",
      "绵阳           2700\n",
      "自贡           1577\n",
      "资阳           2151\n",
      "达州           4491\n",
      "遂宁           2280\n",
      "阿坝藏族羌族自治州     341\n",
      "雅安            787\n",
      "dtype: int64\n"
     ]
    }
   ],
   "source": [
    "print (df.groupby('地市').size())"
   ]
  },
  {
   "cell_type": "code",
   "execution_count": 3,
   "metadata": {
    "collapsed": true
   },
   "outputs": [],
   "source": [
    "df['总局数大于70'] = df['总局数'] > 70\n",
    "df['严重卡顿局数占比大于0.07'] = df['严重卡顿局数占比'] > 0.07"
   ]
  },
  {
   "cell_type": "code",
   "execution_count": 4,
   "metadata": {
    "collapsed": false
   },
   "outputs": [
    {
     "data": {
      "text/html": [
       "<div style=\"max-height:1000px;max-width:1500px;overflow:auto;\">\n",
       "<table border=\"1\" class=\"dataframe\">\n",
       "  <thead>\n",
       "    <tr style=\"text-align: right;\">\n",
       "      <th></th>\n",
       "      <th>基站ID</th>\n",
       "      <th>省份代码</th>\n",
       "      <th>省</th>\n",
       "      <th>地市代码</th>\n",
       "      <th>地市</th>\n",
       "      <th>严重卡顿局数占比</th>\n",
       "      <th>总局数</th>\n",
       "      <th>日卡顿用户数</th>\n",
       "      <th>卡顿集中时段</th>\n",
       "      <th>数据报表日期</th>\n",
       "      <th>总局数大于70</th>\n",
       "      <th>严重卡顿局数占比大于0.07</th>\n",
       "    </tr>\n",
       "  </thead>\n",
       "  <tbody>\n",
       "    <tr>\n",
       "      <th>0</th>\n",
       "      <td> 460_01_33043_118100257</td>\n",
       "      <td> 81</td>\n",
       "      <td> 四川</td>\n",
       "      <td> 28</td>\n",
       "      <td> 成都</td>\n",
       "      <td> 0</td>\n",
       "      <td> 12</td>\n",
       "      <td> 0</td>\n",
       "      <td> 18</td>\n",
       "      <td> 20180221</td>\n",
       "      <td> False</td>\n",
       "      <td> False</td>\n",
       "    </tr>\n",
       "    <tr>\n",
       "      <th>1</th>\n",
       "      <td> 460_01_33045_118669089</td>\n",
       "      <td> 81</td>\n",
       "      <td> 四川</td>\n",
       "      <td> 28</td>\n",
       "      <td> 成都</td>\n",
       "      <td> 0</td>\n",
       "      <td> 15</td>\n",
       "      <td> 0</td>\n",
       "      <td> 12</td>\n",
       "      <td> 20180221</td>\n",
       "      <td> False</td>\n",
       "      <td> False</td>\n",
       "    </tr>\n",
       "    <tr>\n",
       "      <th>2</th>\n",
       "      <td> 460_01_33042_118208288</td>\n",
       "      <td> 81</td>\n",
       "      <td> 四川</td>\n",
       "      <td> 28</td>\n",
       "      <td> 成都</td>\n",
       "      <td> 0</td>\n",
       "      <td>  8</td>\n",
       "      <td> 0</td>\n",
       "      <td> 18</td>\n",
       "      <td> 20180221</td>\n",
       "      <td> False</td>\n",
       "      <td> False</td>\n",
       "    </tr>\n",
       "    <tr>\n",
       "      <th>3</th>\n",
       "      <td> 460_01_33042_245644034</td>\n",
       "      <td> 81</td>\n",
       "      <td> 四川</td>\n",
       "      <td> 28</td>\n",
       "      <td> 成都</td>\n",
       "      <td> 0</td>\n",
       "      <td>  6</td>\n",
       "      <td> 0</td>\n",
       "      <td> 13</td>\n",
       "      <td> 20180221</td>\n",
       "      <td> False</td>\n",
       "      <td> False</td>\n",
       "    </tr>\n",
       "    <tr>\n",
       "      <th>4</th>\n",
       "      <td> 460_01_33045_117907743</td>\n",
       "      <td> 81</td>\n",
       "      <td> 四川</td>\n",
       "      <td> 28</td>\n",
       "      <td> 成都</td>\n",
       "      <td> 0</td>\n",
       "      <td> 10</td>\n",
       "      <td> 0</td>\n",
       "      <td> 19</td>\n",
       "      <td> 20180221</td>\n",
       "      <td> False</td>\n",
       "      <td> False</td>\n",
       "    </tr>\n",
       "  </tbody>\n",
       "</table>\n",
       "</div>"
      ],
      "text/plain": [
       "                     基站ID  省份代码   省  地市代码  地市  严重卡顿局数占比  总局数  日卡顿用户数  卡顿集中时段  \\\n",
       "0  460_01_33043_118100257    81  四川    28  成都         0   12       0      18   \n",
       "1  460_01_33045_118669089    81  四川    28  成都         0   15       0      12   \n",
       "2  460_01_33042_118208288    81  四川    28  成都         0    8       0      18   \n",
       "3  460_01_33042_245644034    81  四川    28  成都         0    6       0      13   \n",
       "4  460_01_33045_117907743    81  四川    28  成都         0   10       0      19   \n",
       "\n",
       "     数据报表日期 总局数大于70 严重卡顿局数占比大于0.07  \n",
       "0  20180221   False          False  \n",
       "1  20180221   False          False  \n",
       "2  20180221   False          False  \n",
       "3  20180221   False          False  \n",
       "4  20180221   False          False  "
      ]
     },
     "execution_count": 4,
     "metadata": {},
     "output_type": "execute_result"
    }
   ],
   "source": [
    "df.head(5)"
   ]
  },
  {
   "cell_type": "code",
   "execution_count": 6,
   "metadata": {
    "collapsed": false
   },
   "outputs": [
    {
     "data": {
      "text/html": [
       "<div style=\"max-height:1000px;max-width:1500px;overflow:auto;\">\n",
       "<table border=\"1\" class=\"dataframe\">\n",
       "  <thead>\n",
       "    <tr style=\"text-align: right;\">\n",
       "      <th></th>\n",
       "      <th>基站ID</th>\n",
       "      <th>省份代码</th>\n",
       "      <th>省</th>\n",
       "      <th>地市代码</th>\n",
       "      <th>地市</th>\n",
       "      <th>严重卡顿局数占比</th>\n",
       "      <th>总局数</th>\n",
       "      <th>日卡顿用户数</th>\n",
       "      <th>卡顿集中时段</th>\n",
       "      <th>数据报表日期</th>\n",
       "      <th>总局数大于70</th>\n",
       "      <th>严重卡顿局数占比大于0.07</th>\n",
       "    </tr>\n",
       "  </thead>\n",
       "  <tbody>\n",
       "    <tr>\n",
       "      <th>23 </th>\n",
       "      <td> 460_01_33076_118121503</td>\n",
       "      <td> 81</td>\n",
       "      <td> 四川</td>\n",
       "      <td> 28</td>\n",
       "      <td> 成都</td>\n",
       "      <td> 0.0390</td>\n",
       "      <td>  77</td>\n",
       "      <td> 2</td>\n",
       "      <td> 11</td>\n",
       "      <td> 20180221</td>\n",
       "      <td> True</td>\n",
       "      <td> False</td>\n",
       "    </tr>\n",
       "    <tr>\n",
       "      <th>70 </th>\n",
       "      <td> 460_01_33046_245414691</td>\n",
       "      <td> 81</td>\n",
       "      <td> 四川</td>\n",
       "      <td> 28</td>\n",
       "      <td> 成都</td>\n",
       "      <td> 0.0000</td>\n",
       "      <td> 193</td>\n",
       "      <td> 0</td>\n",
       "      <td>  2</td>\n",
       "      <td> 20180221</td>\n",
       "      <td> True</td>\n",
       "      <td> False</td>\n",
       "    </tr>\n",
       "    <tr>\n",
       "      <th>94 </th>\n",
       "      <td> 460_01_33192_122715424</td>\n",
       "      <td> 81</td>\n",
       "      <td> 四川</td>\n",
       "      <td> 28</td>\n",
       "      <td> 成都</td>\n",
       "      <td> 0.0000</td>\n",
       "      <td>  73</td>\n",
       "      <td> 0</td>\n",
       "      <td> 16</td>\n",
       "      <td> 20180221</td>\n",
       "      <td> True</td>\n",
       "      <td> False</td>\n",
       "    </tr>\n",
       "    <tr>\n",
       "      <th>122</th>\n",
       "      <td> 460_01_33034_117705503</td>\n",
       "      <td> 81</td>\n",
       "      <td> 四川</td>\n",
       "      <td> 28</td>\n",
       "      <td> 成都</td>\n",
       "      <td> 0.0333</td>\n",
       "      <td>  90</td>\n",
       "      <td> 2</td>\n",
       "      <td> 16</td>\n",
       "      <td> 20180221</td>\n",
       "      <td> True</td>\n",
       "      <td> False</td>\n",
       "    </tr>\n",
       "    <tr>\n",
       "      <th>154</th>\n",
       "      <td> 460_01_33047_118405407</td>\n",
       "      <td> 81</td>\n",
       "      <td> 四川</td>\n",
       "      <td> 28</td>\n",
       "      <td> 成都</td>\n",
       "      <td> 0.0000</td>\n",
       "      <td>  83</td>\n",
       "      <td> 0</td>\n",
       "      <td> 13</td>\n",
       "      <td> 20180221</td>\n",
       "      <td> True</td>\n",
       "      <td> False</td>\n",
       "    </tr>\n",
       "  </tbody>\n",
       "</table>\n",
       "</div>"
      ],
      "text/plain": [
       "                       基站ID  省份代码   省  地市代码  地市  严重卡顿局数占比  总局数  日卡顿用户数  \\\n",
       "23   460_01_33076_118121503    81  四川    28  成都    0.0390   77       2   \n",
       "70   460_01_33046_245414691    81  四川    28  成都    0.0000  193       0   \n",
       "94   460_01_33192_122715424    81  四川    28  成都    0.0000   73       0   \n",
       "122  460_01_33034_117705503    81  四川    28  成都    0.0333   90       2   \n",
       "154  460_01_33047_118405407    81  四川    28  成都    0.0000   83       0   \n",
       "\n",
       "     卡顿集中时段    数据报表日期 总局数大于70 严重卡顿局数占比大于0.07  \n",
       "23       11  20180221    True          False  \n",
       "70        2  20180221    True          False  \n",
       "94       16  20180221    True          False  \n",
       "122      16  20180221    True          False  \n",
       "154      13  20180221    True          False  "
      ]
     },
     "execution_count": 6,
     "metadata": {},
     "output_type": "execute_result"
    }
   ],
   "source": [
    "df1=df.loc[df[\"总局数大于70\"] == True]   #单列筛选方法\n",
    "df1.head()"
   ]
  },
  {
   "cell_type": "code",
   "execution_count": 11,
   "metadata": {
    "collapsed": false
   },
   "outputs": [
    {
     "data": {
      "text/html": [
       "<div>\n",
       "<style scoped>\n",
       "    .dataframe tbody tr th:only-of-type {\n",
       "        vertical-align: middle;\n",
       "    }\n",
       "\n",
       "    .dataframe tbody tr th {\n",
       "        vertical-align: top;\n",
       "    }\n",
       "\n",
       "    .dataframe thead th {\n",
       "        text-align: right;\n",
       "    }\n",
       "</style>\n",
       "<table border=\"1\" class=\"dataframe\">\n",
       "  <thead>\n",
       "    <tr style=\"text-align: right;\">\n",
       "      <th></th>\n",
       "      <th>基站ID</th>\n",
       "      <th>省份代码</th>\n",
       "      <th>省</th>\n",
       "      <th>地市代码</th>\n",
       "      <th>地市</th>\n",
       "      <th>严重卡顿局数占比</th>\n",
       "      <th>总局数</th>\n",
       "      <th>日卡顿用户数</th>\n",
       "      <th>卡顿集中时段</th>\n",
       "      <th>数据报表日期</th>\n",
       "      <th>总局数大于70</th>\n",
       "      <th>严重卡顿局数占比大于0.07</th>\n",
       "    </tr>\n",
       "  </thead>\n",
       "  <tbody>\n",
       "    <tr>\n",
       "      <th>2354</th>\n",
       "      <td>460_01_33034_117719556</td>\n",
       "      <td>81</td>\n",
       "      <td>四川</td>\n",
       "      <td>28</td>\n",
       "      <td>成都</td>\n",
       "      <td>0.1183</td>\n",
       "      <td>93</td>\n",
       "      <td>8</td>\n",
       "      <td>17</td>\n",
       "      <td>20180221</td>\n",
       "      <td>True</td>\n",
       "      <td>True</td>\n",
       "    </tr>\n",
       "    <tr>\n",
       "      <th>3491</th>\n",
       "      <td>460_01_33276_123287857</td>\n",
       "      <td>81</td>\n",
       "      <td>四川</td>\n",
       "      <td>813</td>\n",
       "      <td>自贡</td>\n",
       "      <td>0.0948</td>\n",
       "      <td>116</td>\n",
       "      <td>5</td>\n",
       "      <td>13</td>\n",
       "      <td>20180221</td>\n",
       "      <td>True</td>\n",
       "      <td>True</td>\n",
       "    </tr>\n",
       "    <tr>\n",
       "      <th>3530</th>\n",
       "      <td>460_01_33037_117760032</td>\n",
       "      <td>81</td>\n",
       "      <td>四川</td>\n",
       "      <td>28</td>\n",
       "      <td>成都</td>\n",
       "      <td>0.1096</td>\n",
       "      <td>73</td>\n",
       "      <td>3</td>\n",
       "      <td>14</td>\n",
       "      <td>20180221</td>\n",
       "      <td>True</td>\n",
       "      <td>True</td>\n",
       "    </tr>\n",
       "    <tr>\n",
       "      <th>5474</th>\n",
       "      <td>460_01_33207_123831584</td>\n",
       "      <td>81</td>\n",
       "      <td>四川</td>\n",
       "      <td>839</td>\n",
       "      <td>广元</td>\n",
       "      <td>0.0779</td>\n",
       "      <td>77</td>\n",
       "      <td>2</td>\n",
       "      <td>9</td>\n",
       "      <td>20180221</td>\n",
       "      <td>True</td>\n",
       "      <td>True</td>\n",
       "    </tr>\n",
       "    <tr>\n",
       "      <th>7583</th>\n",
       "      <td>460_01_33181_122650912</td>\n",
       "      <td>81</td>\n",
       "      <td>四川</td>\n",
       "      <td>838</td>\n",
       "      <td>德阳</td>\n",
       "      <td>0.0714</td>\n",
       "      <td>98</td>\n",
       "      <td>2</td>\n",
       "      <td>15</td>\n",
       "      <td>20180221</td>\n",
       "      <td>True</td>\n",
       "      <td>True</td>\n",
       "    </tr>\n",
       "  </tbody>\n",
       "</table>\n",
       "</div>"
      ],
      "text/plain": [
       "                        基站ID  省份代码   省  地市代码  地市  严重卡顿局数占比  总局数  日卡顿用户数  \\\n",
       "2354  460_01_33034_117719556    81  四川    28  成都    0.1183   93       8   \n",
       "3491  460_01_33276_123287857    81  四川   813  自贡    0.0948  116       5   \n",
       "3530  460_01_33037_117760032    81  四川    28  成都    0.1096   73       3   \n",
       "5474  460_01_33207_123831584    81  四川   839  广元    0.0779   77       2   \n",
       "7583  460_01_33181_122650912    81  四川   838  德阳    0.0714   98       2   \n",
       "\n",
       "      卡顿集中时段    数据报表日期  总局数大于70  严重卡顿局数占比大于0.07  \n",
       "2354      17  20180221     True            True  \n",
       "3491      13  20180221     True            True  \n",
       "3530      14  20180221     True            True  \n",
       "5474       9  20180221     True            True  \n",
       "7583      15  20180221     True            True  "
      ]
     },
     "execution_count": 11,
     "metadata": {},
     "output_type": "execute_result"
    }
   ],
   "source": [
    "df2=df.loc[(df[\"总局数大于70\"] == True)&(df[\"严重卡顿局数占比大于0.07\"] == True)]   #多列筛选方法\n",
    "df2.head()"
   ]
  },
  {
   "cell_type": "code",
   "execution_count": 12,
   "metadata": {
    "collapsed": false
   },
   "outputs": [
    {
     "data": {
      "text/plain": [
       "地市\n",
       "乐山          3\n",
       "凉山彝族自治州     3\n",
       "南充          8\n",
       "宜宾          3\n",
       "巴中          8\n",
       "广元          2\n",
       "广安         25\n",
       "德阳          5\n",
       "成都          2\n",
       "泸州          1\n",
       "甘孜藏族自治州     1\n",
       "绵阳          2\n",
       "自贡          1\n",
       "达州         65\n",
       "dtype: int64"
      ]
     },
     "execution_count": 12,
     "metadata": {},
     "output_type": "execute_result"
    }
   ],
   "source": [
    "df2.groupby('地市').size()"
   ]
  },
  {
   "cell_type": "code",
   "execution_count": 16,
   "metadata": {
    "collapsed": false
   },
   "outputs": [
    {
     "data": {
      "text/plain": [
       "卡顿集中时段\n",
       "0       74\n",
       "8      660\n",
       "9      400\n",
       "10     809\n",
       "11     702\n",
       "12     964\n",
       "13    1189\n",
       "14    1088\n",
       "15     808\n",
       "16    1124\n",
       "17     888\n",
       "18     453\n",
       "19    1165\n",
       "20    1026\n",
       "21    1512\n",
       "22     871\n",
       "23     690\n",
       "Name: 总局数, dtype: int64"
      ]
     },
     "execution_count": 16,
     "metadata": {},
     "output_type": "execute_result"
    }
   ],
   "source": [
    "df2.groupby('卡顿集中时段').sum()['总局数']"
   ]
  },
  {
   "cell_type": "code",
   "execution_count": 19,
   "metadata": {
    "collapsed": false,
    "scrolled": true
   },
   "outputs": [
    {
     "name": "stdout",
     "output_type": "stream",
     "text": [
      "卡顿集中时段\n",
      "0      24096\n",
      "1      10957\n",
      "2       6713\n",
      "3       2791\n",
      "4       2247\n",
      "5       1402\n",
      "6       1972\n",
      "7       4125\n",
      "8      14833\n",
      "9      34046\n",
      "10     60214\n",
      "11     81961\n",
      "12     61093\n",
      "13     69813\n",
      "14     71936\n",
      "15     67408\n",
      "16    175591\n",
      "17     63249\n",
      "18     56550\n",
      "19     64164\n",
      "20     80015\n",
      "21     91998\n",
      "22     85910\n",
      "23    105350\n",
      "Name: 总局数, dtype: int64\n"
     ]
    }
   ],
   "source": [
    "print(df.groupby('卡顿集中时段').sum()['总局数'])"
   ]
  },
  {
   "cell_type": "code",
   "execution_count": 4,
   "metadata": {
    "collapsed": false
   },
   "outputs": [
    {
     "ename": "AttributeError",
     "evalue": "'DataFrame' object has no attribute 'sort_values'",
     "output_type": "error",
     "traceback": [
      "\u001b[1;31m---------------------------------------------------------------------------\u001b[0m",
      "\u001b[1;31mAttributeError\u001b[0m                            Traceback (most recent call last)",
      "\u001b[1;32m<ipython-input-4-b51f8a901d75>\u001b[0m in \u001b[0;36m<module>\u001b[1;34m()\u001b[0m\n\u001b[1;32m----> 1\u001b[1;33m \u001b[0mdf3\u001b[0m\u001b[1;33m=\u001b[0m\u001b[0mdf\u001b[0m\u001b[1;33m.\u001b[0m\u001b[0msort_values\u001b[0m\u001b[1;33m(\u001b[0m\u001b[0mby\u001b[0m\u001b[1;33m=\u001b[0m\u001b[1;34m'总局数'\u001b[0m\u001b[1;33m,\u001b[0m\u001b[0mascending\u001b[0m\u001b[1;33m=\u001b[0m\u001b[1;32mFalse\u001b[0m\u001b[1;33m)\u001b[0m\u001b[1;33m\u001b[0m\u001b[0m\n\u001b[0m\u001b[0;32m      2\u001b[0m \u001b[0mdf3\u001b[0m\u001b[1;33m.\u001b[0m\u001b[0mhead\u001b[0m\u001b[1;33m(\u001b[0m\u001b[1;33m)\u001b[0m\u001b[1;33m\u001b[0m\u001b[0m\n",
      "\u001b[1;32mD:\\Anaconda3\\lib\\site-packages\\pandas\\core\\generic.py\u001b[0m in \u001b[0;36m__getattr__\u001b[1;34m(self, name)\u001b[0m\n\u001b[0;32m   1945\u001b[0m                 \u001b[1;32mreturn\u001b[0m \u001b[0mself\u001b[0m\u001b[1;33m[\u001b[0m\u001b[0mname\u001b[0m\u001b[1;33m]\u001b[0m\u001b[1;33m\u001b[0m\u001b[0m\n\u001b[0;32m   1946\u001b[0m             raise AttributeError(\"'%s' object has no attribute '%s'\" %\n\u001b[1;32m-> 1947\u001b[1;33m                                  (type(self).__name__, name))\n\u001b[0m\u001b[0;32m   1948\u001b[0m \u001b[1;33m\u001b[0m\u001b[0m\n\u001b[0;32m   1949\u001b[0m     \u001b[1;32mdef\u001b[0m \u001b[0m__setattr__\u001b[0m\u001b[1;33m(\u001b[0m\u001b[0mself\u001b[0m\u001b[1;33m,\u001b[0m \u001b[0mname\u001b[0m\u001b[1;33m,\u001b[0m \u001b[0mvalue\u001b[0m\u001b[1;33m)\u001b[0m\u001b[1;33m:\u001b[0m\u001b[1;33m\u001b[0m\u001b[0m\n",
      "\u001b[1;31mAttributeError\u001b[0m: 'DataFrame' object has no attribute 'sort_values'"
     ]
    }
   ],
   "source": [
    "df3=df.sort_values(by='总局数',ascending=False)\n",
    "df3.head()"
   ]
  },
  {
   "cell_type": "code",
   "execution_count": 42,
   "metadata": {
    "collapsed": false
   },
   "outputs": [
    {
     "data": {
      "text/plain": [
       "总局数    489\n",
       "地市      成都\n",
       "Name: 229, dtype: object"
      ]
     },
     "execution_count": 42,
     "metadata": {},
     "output_type": "execute_result"
    }
   ],
   "source": [
    "df3.loc[229,['总局数','地市']]"
   ]
  },
  {
   "cell_type": "code",
   "execution_count": 64,
   "metadata": {
    "collapsed": false
   },
   "outputs": [
    {
     "data": {
      "text/plain": [
       "28"
      ]
     },
     "execution_count": 64,
     "metadata": {},
     "output_type": "execute_result"
    }
   ],
   "source": [
    "df3.iloc[1,3]"
   ]
  },
  {
   "cell_type": "code",
   "execution_count": null,
   "metadata": {
    "collapsed": true
   },
   "outputs": [],
   "source": [
    "dates = pd.date_range"
   ]
  },
  {
   "cell_type": "markdown",
   "metadata": {},
   "source": [
    "布尔索引"
   ]
  },
  {
   "cell_type": "code",
   "execution_count": 72,
   "metadata": {
    "collapsed": false
   },
   "outputs": [
    {
     "data": {
      "text/html": [
       "<div>\n",
       "<style scoped>\n",
       "    .dataframe tbody tr th:only-of-type {\n",
       "        vertical-align: middle;\n",
       "    }\n",
       "\n",
       "    .dataframe tbody tr th {\n",
       "        vertical-align: top;\n",
       "    }\n",
       "\n",
       "    .dataframe thead th {\n",
       "        text-align: right;\n",
       "    }\n",
       "</style>\n",
       "<table border=\"1\" class=\"dataframe\">\n",
       "  <thead>\n",
       "    <tr style=\"text-align: right;\">\n",
       "      <th></th>\n",
       "      <th>基站ID</th>\n",
       "      <th>省份代码</th>\n",
       "      <th>省</th>\n",
       "      <th>地市代码</th>\n",
       "      <th>地市</th>\n",
       "      <th>严重卡顿局数占比</th>\n",
       "      <th>总局数</th>\n",
       "      <th>日卡顿用户数</th>\n",
       "      <th>卡顿集中时段</th>\n",
       "      <th>数据报表日期</th>\n",
       "      <th>总局数大于70</th>\n",
       "      <th>严重卡顿局数占比大于0.07</th>\n",
       "    </tr>\n",
       "  </thead>\n",
       "  <tbody>\n",
       "    <tr>\n",
       "      <th>50431</th>\n",
       "      <td>460_01_33116_84008866</td>\n",
       "      <td>81</td>\n",
       "      <td>四川</td>\n",
       "      <td>816</td>\n",
       "      <td>绵阳</td>\n",
       "      <td>0.0079</td>\n",
       "      <td>504</td>\n",
       "      <td>4</td>\n",
       "      <td>16</td>\n",
       "      <td>20180221</td>\n",
       "      <td>True</td>\n",
       "      <td>False</td>\n",
       "    </tr>\n",
       "    <tr>\n",
       "      <th>229</th>\n",
       "      <td>460_01_33046_118188320</td>\n",
       "      <td>81</td>\n",
       "      <td>四川</td>\n",
       "      <td>28</td>\n",
       "      <td>成都</td>\n",
       "      <td>0.0020</td>\n",
       "      <td>489</td>\n",
       "      <td>1</td>\n",
       "      <td>10</td>\n",
       "      <td>20180221</td>\n",
       "      <td>True</td>\n",
       "      <td>False</td>\n",
       "    </tr>\n",
       "  </tbody>\n",
       "</table>\n",
       "</div>"
      ],
      "text/plain": [
       "                         基站ID  省份代码   省  地市代码  地市  严重卡顿局数占比  总局数  日卡顿用户数  \\\n",
       "50431   460_01_33116_84008866    81  四川   816  绵阳    0.0079  504       4   \n",
       "229    460_01_33046_118188320    81  四川    28  成都    0.0020  489       1   \n",
       "\n",
       "       卡顿集中时段    数据报表日期  总局数大于70  严重卡顿局数占比大于0.07  \n",
       "50431      16  20180221     True           False  \n",
       "229        10  20180221     True           False  "
      ]
     },
     "execution_count": 72,
     "metadata": {},
     "output_type": "execute_result"
    }
   ],
   "source": [
    "df3[df3['总局数']>400]\n"
   ]
  },
  {
   "cell_type": "markdown",
   "metadata": {},
   "source": [
    "where 操作"
   ]
  },
  {
   "cell_type": "code",
   "execution_count": 7,
   "metadata": {
    "collapsed": false
   },
   "outputs": [
    {
     "ename": "NameError",
     "evalue": "name 'df3' is not defined",
     "output_type": "error",
     "traceback": [
      "\u001b[1;31m---------------------------------------------------------------------------\u001b[0m",
      "\u001b[1;31mNameError\u001b[0m                                 Traceback (most recent call last)",
      "\u001b[1;32m<ipython-input-7-ab598eb645a4>\u001b[0m in \u001b[0;36m<module>\u001b[1;34m()\u001b[0m\n\u001b[1;32m----> 1\u001b[1;33m \u001b[0mdf3\u001b[0m\u001b[1;33m[\u001b[0m\u001b[0mdf3\u001b[0m\u001b[1;33m>\u001b[0m\u001b[1;36m400\u001b[0m\u001b[1;33m]\u001b[0m\u001b[1;33m.\u001b[0m\u001b[0mhead\u001b[0m\u001b[1;33m(\u001b[0m\u001b[1;33m)\u001b[0m\u001b[1;33m\u001b[0m\u001b[0m\n\u001b[0m",
      "\u001b[1;31mNameError\u001b[0m: name 'df3' is not defined"
     ]
    }
   ],
   "source": [
    "df3[df3>400]\n"
   ]
  },
  {
   "cell_type": "markdown",
   "metadata": {},
   "source": [
    "使用 isin() 筛选："
   ]
  },
  {
   "cell_type": "code",
   "execution_count": 78,
   "metadata": {
    "collapsed": false
   },
   "outputs": [
    {
     "data": {
      "text/html": [
       "<div>\n",
       "<style scoped>\n",
       "    .dataframe tbody tr th:only-of-type {\n",
       "        vertical-align: middle;\n",
       "    }\n",
       "\n",
       "    .dataframe tbody tr th {\n",
       "        vertical-align: top;\n",
       "    }\n",
       "\n",
       "    .dataframe thead th {\n",
       "        text-align: right;\n",
       "    }\n",
       "</style>\n",
       "<table border=\"1\" class=\"dataframe\">\n",
       "  <thead>\n",
       "    <tr style=\"text-align: right;\">\n",
       "      <th></th>\n",
       "      <th>基站ID</th>\n",
       "      <th>省份代码</th>\n",
       "      <th>省</th>\n",
       "      <th>地市代码</th>\n",
       "      <th>地市</th>\n",
       "      <th>严重卡顿局数占比</th>\n",
       "      <th>总局数</th>\n",
       "      <th>日卡顿用户数</th>\n",
       "      <th>卡顿集中时段</th>\n",
       "      <th>数据报表日期</th>\n",
       "    </tr>\n",
       "  </thead>\n",
       "  <tbody>\n",
       "    <tr>\n",
       "      <th>0</th>\n",
       "      <td>460_01_33043_118100257</td>\n",
       "      <td>81</td>\n",
       "      <td>四川</td>\n",
       "      <td>28</td>\n",
       "      <td>成都</td>\n",
       "      <td>0.0</td>\n",
       "      <td>12</td>\n",
       "      <td>0</td>\n",
       "      <td>18</td>\n",
       "      <td>20180221</td>\n",
       "    </tr>\n",
       "    <tr>\n",
       "      <th>1</th>\n",
       "      <td>460_01_33045_118669089</td>\n",
       "      <td>81</td>\n",
       "      <td>四川</td>\n",
       "      <td>28</td>\n",
       "      <td>成都</td>\n",
       "      <td>0.0</td>\n",
       "      <td>15</td>\n",
       "      <td>0</td>\n",
       "      <td>12</td>\n",
       "      <td>20180221</td>\n",
       "    </tr>\n",
       "    <tr>\n",
       "      <th>2</th>\n",
       "      <td>460_01_33042_118208288</td>\n",
       "      <td>81</td>\n",
       "      <td>四川</td>\n",
       "      <td>28</td>\n",
       "      <td>成都</td>\n",
       "      <td>0.0</td>\n",
       "      <td>8</td>\n",
       "      <td>0</td>\n",
       "      <td>18</td>\n",
       "      <td>20180221</td>\n",
       "    </tr>\n",
       "    <tr>\n",
       "      <th>3</th>\n",
       "      <td>460_01_33042_245644034</td>\n",
       "      <td>81</td>\n",
       "      <td>四川</td>\n",
       "      <td>28</td>\n",
       "      <td>成都</td>\n",
       "      <td>0.0</td>\n",
       "      <td>6</td>\n",
       "      <td>0</td>\n",
       "      <td>13</td>\n",
       "      <td>20180221</td>\n",
       "    </tr>\n",
       "    <tr>\n",
       "      <th>4</th>\n",
       "      <td>460_01_33045_117907743</td>\n",
       "      <td>81</td>\n",
       "      <td>四川</td>\n",
       "      <td>28</td>\n",
       "      <td>成都</td>\n",
       "      <td>0.0</td>\n",
       "      <td>10</td>\n",
       "      <td>0</td>\n",
       "      <td>19</td>\n",
       "      <td>20180221</td>\n",
       "    </tr>\n",
       "  </tbody>\n",
       "</table>\n",
       "</div>"
      ],
      "text/plain": [
       "                     基站ID  省份代码   省  地市代码  地市  严重卡顿局数占比  总局数  日卡顿用户数  卡顿集中时段  \\\n",
       "0  460_01_33043_118100257    81  四川    28  成都       0.0   12       0      18   \n",
       "1  460_01_33045_118669089    81  四川    28  成都       0.0   15       0      12   \n",
       "2  460_01_33042_118208288    81  四川    28  成都       0.0    8       0      18   \n",
       "3  460_01_33042_245644034    81  四川    28  成都       0.0    6       0      13   \n",
       "4  460_01_33045_117907743    81  四川    28  成都       0.0   10       0      19   \n",
       "\n",
       "     数据报表日期  \n",
       "0  20180221  \n",
       "1  20180221  \n",
       "2  20180221  \n",
       "3  20180221  \n",
       "4  20180221  "
      ]
     },
     "execution_count": 78,
     "metadata": {},
     "output_type": "execute_result"
    }
   ],
   "source": [
    "df4 = df.copy()\n",
    "df4.head()"
   ]
  },
  {
   "cell_type": "code",
   "execution_count": 92,
   "metadata": {
    "collapsed": false
   },
   "outputs": [
    {
     "data": {
      "text/html": [
       "<div>\n",
       "<style scoped>\n",
       "    .dataframe tbody tr th:only-of-type {\n",
       "        vertical-align: middle;\n",
       "    }\n",
       "\n",
       "    .dataframe tbody tr th {\n",
       "        vertical-align: top;\n",
       "    }\n",
       "\n",
       "    .dataframe thead th {\n",
       "        text-align: right;\n",
       "    }\n",
       "</style>\n",
       "<table border=\"1\" class=\"dataframe\">\n",
       "  <thead>\n",
       "    <tr style=\"text-align: right;\">\n",
       "      <th></th>\n",
       "      <th>基站ID</th>\n",
       "      <th>省份代码</th>\n",
       "      <th>省</th>\n",
       "      <th>地市代码</th>\n",
       "      <th>地市</th>\n",
       "      <th>严重卡顿局数占比</th>\n",
       "      <th>总局数</th>\n",
       "      <th>日卡顿用户数</th>\n",
       "      <th>卡顿集中时段</th>\n",
       "      <th>数据报表日期</th>\n",
       "    </tr>\n",
       "  </thead>\n",
       "  <tbody>\n",
       "    <tr>\n",
       "      <th>1</th>\n",
       "      <td>460_01_33045_118669089</td>\n",
       "      <td>81</td>\n",
       "      <td>四川</td>\n",
       "      <td>28</td>\n",
       "      <td>成都</td>\n",
       "      <td>0.0</td>\n",
       "      <td>15</td>\n",
       "      <td>0</td>\n",
       "      <td>12</td>\n",
       "      <td>20180221</td>\n",
       "    </tr>\n",
       "  </tbody>\n",
       "</table>\n",
       "</div>"
      ],
      "text/plain": [
       "                     基站ID  省份代码   省  地市代码  地市  严重卡顿局数占比  总局数  日卡顿用户数  卡顿集中时段  \\\n",
       "1  460_01_33045_118669089    81  四川    28  成都       0.0   15       0      12   \n",
       "\n",
       "     数据报表日期  \n",
       "1  20180221  "
      ]
     },
     "execution_count": 92,
     "metadata": {},
     "output_type": "execute_result"
    }
   ],
   "source": [
    "df4[df4['基站ID'].isin(['460_01_33045_118669089'])]"
   ]
  },
  {
   "cell_type": "markdown",
   "metadata": {},
   "source": [
    "concat函数是在pandas底下的方法，可以将数据根据不同的轴作简单的融合"
   ]
  },
  {
   "cell_type": "code",
   "execution_count": 86,
   "metadata": {
    "collapsed": false
   },
   "outputs": [
    {
     "name": "stdout",
     "output_type": "stream",
     "text": [
      "                     基站ID  省份代码   省  地市代码  地市  严重卡顿局数占比  总局数  日卡顿用户数  卡顿集中时段  \\\n",
      "0  460_01_33043_118100257    81  四川    28  成都         0   12       0      18   \n",
      "1  460_01_33045_118669089    81  四川    28  成都         0   15       0      12   \n",
      "2  460_01_33042_118208288    81  四川    28  成都         0    8       0      18   \n",
      "3  460_01_33042_245644034    81  四川    28  成都         0    6       0      13   \n",
      "\n",
      "     数据报表日期  \n",
      "0  20180221  \n",
      "1  20180221  \n",
      "2  20180221  \n",
      "3  20180221  \n",
      "                     基站ID  省份代码   省  地市代码  地市  严重卡顿局数占比  总局数  日卡顿用户数  卡顿集中时段  \\\n",
      "0  460_01_33046_118212640    81  四川    28  成都       0.2    5       1      12   \n",
      "1  460_01_33037_117914913    81  四川    28  成都       0.0    5       0      11   \n",
      "2  460_01_33053_118505505    81  四川    28  成都       0.0   26       0      11   \n",
      "3  460_01_33043_118103840    81  四川    28  成都       0.0   14       0      15   \n",
      "4  460_01_33039_118244897    81  四川    28  成都       0.0    8       0       9   \n",
      "\n",
      "     数据报表日期  \n",
      "0  20180221  \n",
      "1  20180221  \n",
      "2  20180221  \n",
      "3  20180221  \n",
      "4  20180221  \n"
     ]
    }
   ],
   "source": [
    "import pandas as pd\n",
    "df5 = pd.read_csv('Data/game/concat1.csv',encoding='gbk')\n",
    "print(df5)\n",
    "df6 = pd.read_csv('Data/game/concat2.csv',encoding='gbk')\n",
    "print(df6)"
   ]
  },
  {
   "cell_type": "code",
   "execution_count": 94,
   "metadata": {
    "collapsed": false,
    "scrolled": true
   },
   "outputs": [
    {
     "name": "stdout",
     "output_type": "stream",
     "text": [
      "                     基站ID  省份代码   省  地市代码  地市  严重卡顿局数占比  总局数  日卡顿用户数  卡顿集中时段  \\\n",
      "0  460_01_33043_118100257    81  四川    28  成都       0.0   12       0      18   \n",
      "1  460_01_33045_118669089    81  四川    28  成都       0.0   15       0      12   \n",
      "2  460_01_33042_118208288    81  四川    28  成都       0.0    8       0      18   \n",
      "3  460_01_33042_245644034    81  四川    28  成都       0.0    6       0      13   \n",
      "0  460_01_33046_118212640    81  四川    28  成都       0.2    5       1      12   \n",
      "1  460_01_33037_117914913    81  四川    28  成都       0.0    5       0      11   \n",
      "2  460_01_33053_118505505    81  四川    28  成都       0.0   26       0      11   \n",
      "3  460_01_33043_118103840    81  四川    28  成都       0.0   14       0      15   \n",
      "4  460_01_33039_118244897    81  四川    28  成都       0.0    8       0       9   \n",
      "\n",
      "     数据报表日期  \n",
      "0  20180221  \n",
      "1  20180221  \n",
      "2  20180221  \n",
      "3  20180221  \n",
      "0  20180221  \n",
      "1  20180221  \n",
      "2  20180221  \n",
      "3  20180221  \n",
      "4  20180221  \n"
     ]
    }
   ],
   "source": [
    "pieces =[df5,df6]\n",
    "pd0=pd.concat(pieces)\n",
    "print(pd0)"
   ]
  },
  {
   "cell_type": "markdown",
   "metadata": {},
   "source": [
    "分组\n",
    "\n",
    "对于“group by”指的是以下一个或多个处理\n",
    "\n",
    "    将数据按某些标准分割为不同的组\n",
    "    在每个独立组上应用函数\n",
    "    组合结果为一个数据结构\n"
   ]
  },
  {
   "cell_type": "code",
   "execution_count": 98,
   "metadata": {
    "collapsed": false,
    "scrolled": true
   },
   "outputs": [
    {
     "data": {
      "text/html": [
       "<div>\n",
       "<style scoped>\n",
       "    .dataframe tbody tr th:only-of-type {\n",
       "        vertical-align: middle;\n",
       "    }\n",
       "\n",
       "    .dataframe tbody tr th {\n",
       "        vertical-align: top;\n",
       "    }\n",
       "\n",
       "    .dataframe thead th {\n",
       "        text-align: right;\n",
       "    }\n",
       "</style>\n",
       "<table border=\"1\" class=\"dataframe\">\n",
       "  <thead>\n",
       "    <tr style=\"text-align: right;\">\n",
       "      <th></th>\n",
       "      <th>省份代码</th>\n",
       "      <th>地市代码</th>\n",
       "      <th>严重卡顿局数占比</th>\n",
       "      <th>总局数</th>\n",
       "      <th>日卡顿用户数</th>\n",
       "      <th>数据报表日期</th>\n",
       "    </tr>\n",
       "    <tr>\n",
       "      <th>卡顿集中时段</th>\n",
       "      <th></th>\n",
       "      <th></th>\n",
       "      <th></th>\n",
       "      <th></th>\n",
       "      <th></th>\n",
       "      <th></th>\n",
       "    </tr>\n",
       "  </thead>\n",
       "  <tbody>\n",
       "    <tr>\n",
       "      <th>9</th>\n",
       "      <td>81</td>\n",
       "      <td>28</td>\n",
       "      <td>0.0</td>\n",
       "      <td>8</td>\n",
       "      <td>0</td>\n",
       "      <td>20180221</td>\n",
       "    </tr>\n",
       "    <tr>\n",
       "      <th>11</th>\n",
       "      <td>162</td>\n",
       "      <td>56</td>\n",
       "      <td>0.0</td>\n",
       "      <td>31</td>\n",
       "      <td>0</td>\n",
       "      <td>40360442</td>\n",
       "    </tr>\n",
       "    <tr>\n",
       "      <th>12</th>\n",
       "      <td>162</td>\n",
       "      <td>56</td>\n",
       "      <td>0.2</td>\n",
       "      <td>20</td>\n",
       "      <td>1</td>\n",
       "      <td>40360442</td>\n",
       "    </tr>\n",
       "    <tr>\n",
       "      <th>13</th>\n",
       "      <td>81</td>\n",
       "      <td>28</td>\n",
       "      <td>0.0</td>\n",
       "      <td>6</td>\n",
       "      <td>0</td>\n",
       "      <td>20180221</td>\n",
       "    </tr>\n",
       "    <tr>\n",
       "      <th>15</th>\n",
       "      <td>81</td>\n",
       "      <td>28</td>\n",
       "      <td>0.0</td>\n",
       "      <td>14</td>\n",
       "      <td>0</td>\n",
       "      <td>20180221</td>\n",
       "    </tr>\n",
       "    <tr>\n",
       "      <th>18</th>\n",
       "      <td>162</td>\n",
       "      <td>56</td>\n",
       "      <td>0.0</td>\n",
       "      <td>20</td>\n",
       "      <td>0</td>\n",
       "      <td>40360442</td>\n",
       "    </tr>\n",
       "  </tbody>\n",
       "</table>\n",
       "</div>"
      ],
      "text/plain": [
       "        省份代码  地市代码  严重卡顿局数占比  总局数  日卡顿用户数    数据报表日期\n",
       "卡顿集中时段                                             \n",
       "9         81    28       0.0    8       0  20180221\n",
       "11       162    56       0.0   31       0  40360442\n",
       "12       162    56       0.2   20       1  40360442\n",
       "13        81    28       0.0    6       0  20180221\n",
       "15        81    28       0.0   14       0  20180221\n",
       "18       162    56       0.0   20       0  40360442"
      ]
     },
     "execution_count": 98,
     "metadata": {},
     "output_type": "execute_result"
    }
   ],
   "source": [
    "pd0.groupby('卡顿集中时段').sum()"
   ]
  },
  {
   "cell_type": "code",
   "execution_count": 99,
   "metadata": {
    "collapsed": false
   },
   "outputs": [
    {
     "data": {
      "text/html": [
       "<div>\n",
       "<style scoped>\n",
       "    .dataframe tbody tr th:only-of-type {\n",
       "        vertical-align: middle;\n",
       "    }\n",
       "\n",
       "    .dataframe tbody tr th {\n",
       "        vertical-align: top;\n",
       "    }\n",
       "\n",
       "    .dataframe thead th {\n",
       "        text-align: right;\n",
       "    }\n",
       "</style>\n",
       "<table border=\"1\" class=\"dataframe\">\n",
       "  <thead>\n",
       "    <tr style=\"text-align: right;\">\n",
       "      <th></th>\n",
       "      <th>基站ID</th>\n",
       "      <th>省份代码</th>\n",
       "      <th>省</th>\n",
       "      <th>地市代码</th>\n",
       "      <th>地市</th>\n",
       "      <th>严重卡顿局数占比</th>\n",
       "      <th>总局数</th>\n",
       "      <th>日卡顿用户数</th>\n",
       "      <th>数据报表日期</th>\n",
       "    </tr>\n",
       "    <tr>\n",
       "      <th>卡顿集中时段</th>\n",
       "      <th></th>\n",
       "      <th></th>\n",
       "      <th></th>\n",
       "      <th></th>\n",
       "      <th></th>\n",
       "      <th></th>\n",
       "      <th></th>\n",
       "      <th></th>\n",
       "      <th></th>\n",
       "    </tr>\n",
       "  </thead>\n",
       "  <tbody>\n",
       "    <tr>\n",
       "      <th>9</th>\n",
       "      <td>1</td>\n",
       "      <td>1</td>\n",
       "      <td>1</td>\n",
       "      <td>1</td>\n",
       "      <td>1</td>\n",
       "      <td>1</td>\n",
       "      <td>1</td>\n",
       "      <td>1</td>\n",
       "      <td>1</td>\n",
       "    </tr>\n",
       "    <tr>\n",
       "      <th>11</th>\n",
       "      <td>2</td>\n",
       "      <td>2</td>\n",
       "      <td>2</td>\n",
       "      <td>2</td>\n",
       "      <td>2</td>\n",
       "      <td>2</td>\n",
       "      <td>2</td>\n",
       "      <td>2</td>\n",
       "      <td>2</td>\n",
       "    </tr>\n",
       "    <tr>\n",
       "      <th>12</th>\n",
       "      <td>2</td>\n",
       "      <td>2</td>\n",
       "      <td>2</td>\n",
       "      <td>2</td>\n",
       "      <td>2</td>\n",
       "      <td>2</td>\n",
       "      <td>2</td>\n",
       "      <td>2</td>\n",
       "      <td>2</td>\n",
       "    </tr>\n",
       "    <tr>\n",
       "      <th>13</th>\n",
       "      <td>1</td>\n",
       "      <td>1</td>\n",
       "      <td>1</td>\n",
       "      <td>1</td>\n",
       "      <td>1</td>\n",
       "      <td>1</td>\n",
       "      <td>1</td>\n",
       "      <td>1</td>\n",
       "      <td>1</td>\n",
       "    </tr>\n",
       "    <tr>\n",
       "      <th>15</th>\n",
       "      <td>1</td>\n",
       "      <td>1</td>\n",
       "      <td>1</td>\n",
       "      <td>1</td>\n",
       "      <td>1</td>\n",
       "      <td>1</td>\n",
       "      <td>1</td>\n",
       "      <td>1</td>\n",
       "      <td>1</td>\n",
       "    </tr>\n",
       "    <tr>\n",
       "      <th>18</th>\n",
       "      <td>2</td>\n",
       "      <td>2</td>\n",
       "      <td>2</td>\n",
       "      <td>2</td>\n",
       "      <td>2</td>\n",
       "      <td>2</td>\n",
       "      <td>2</td>\n",
       "      <td>2</td>\n",
       "      <td>2</td>\n",
       "    </tr>\n",
       "  </tbody>\n",
       "</table>\n",
       "</div>"
      ],
      "text/plain": [
       "        基站ID  省份代码  省  地市代码  地市  严重卡顿局数占比  总局数  日卡顿用户数  数据报表日期\n",
       "卡顿集中时段                                                        \n",
       "9          1     1  1     1   1         1    1       1       1\n",
       "11         2     2  2     2   2         2    2       2       2\n",
       "12         2     2  2     2   2         2    2       2       2\n",
       "13         1     1  1     1   1         1    1       1       1\n",
       "15         1     1  1     1   1         1    1       1       1\n",
       "18         2     2  2     2   2         2    2       2       2"
      ]
     },
     "execution_count": 99,
     "metadata": {},
     "output_type": "execute_result"
    }
   ],
   "source": [
    "pd0.groupby('卡顿集中时段').count()"
   ]
  },
  {
   "cell_type": "markdown",
   "metadata": {},
   "source": [
    "数据透视表"
   ]
  },
  {
   "cell_type": "code",
   "execution_count": 105,
   "metadata": {
    "collapsed": false
   },
   "outputs": [
    {
     "data": {
      "text/html": [
       "<div>\n",
       "<style scoped>\n",
       "    .dataframe tbody tr th:only-of-type {\n",
       "        vertical-align: middle;\n",
       "    }\n",
       "\n",
       "    .dataframe tbody tr th {\n",
       "        vertical-align: top;\n",
       "    }\n",
       "\n",
       "    .dataframe thead th {\n",
       "        text-align: right;\n",
       "    }\n",
       "</style>\n",
       "<table border=\"1\" class=\"dataframe\">\n",
       "  <thead>\n",
       "    <tr style=\"text-align: right;\">\n",
       "      <th></th>\n",
       "      <th>省份代码</th>\n",
       "      <th>地市代码</th>\n",
       "      <th>严重卡顿局数占比</th>\n",
       "      <th>总局数</th>\n",
       "      <th>日卡顿用户数</th>\n",
       "      <th>卡顿集中时段</th>\n",
       "      <th>数据报表日期</th>\n",
       "    </tr>\n",
       "  </thead>\n",
       "  <tbody>\n",
       "    <tr>\n",
       "      <th>count</th>\n",
       "      <td>52839.0</td>\n",
       "      <td>52839.000000</td>\n",
       "      <td>52839.000000</td>\n",
       "      <td>52839.000000</td>\n",
       "      <td>52839.000000</td>\n",
       "      <td>52839.000000</td>\n",
       "      <td>52839.0</td>\n",
       "    </tr>\n",
       "    <tr>\n",
       "      <th>mean</th>\n",
       "      <td>81.0</td>\n",
       "      <td>638.471678</td>\n",
       "      <td>0.016721</td>\n",
       "      <td>23.437877</td>\n",
       "      <td>0.297735</td>\n",
       "      <td>16.263745</td>\n",
       "      <td>20180221.0</td>\n",
       "    </tr>\n",
       "    <tr>\n",
       "      <th>std</th>\n",
       "      <td>0.0</td>\n",
       "      <td>338.084403</td>\n",
       "      <td>0.050723</td>\n",
       "      <td>24.740693</td>\n",
       "      <td>0.722268</td>\n",
       "      <td>5.288956</td>\n",
       "      <td>0.0</td>\n",
       "    </tr>\n",
       "    <tr>\n",
       "      <th>min</th>\n",
       "      <td>81.0</td>\n",
       "      <td>28.000000</td>\n",
       "      <td>0.000000</td>\n",
       "      <td>5.000000</td>\n",
       "      <td>0.000000</td>\n",
       "      <td>0.000000</td>\n",
       "      <td>20180221.0</td>\n",
       "    </tr>\n",
       "    <tr>\n",
       "      <th>25%</th>\n",
       "      <td>81.0</td>\n",
       "      <td>812.000000</td>\n",
       "      <td>0.000000</td>\n",
       "      <td>9.000000</td>\n",
       "      <td>0.000000</td>\n",
       "      <td>13.000000</td>\n",
       "      <td>20180221.0</td>\n",
       "    </tr>\n",
       "    <tr>\n",
       "      <th>50%</th>\n",
       "      <td>81.0</td>\n",
       "      <td>818.000000</td>\n",
       "      <td>0.000000</td>\n",
       "      <td>15.000000</td>\n",
       "      <td>0.000000</td>\n",
       "      <td>16.000000</td>\n",
       "      <td>20180221.0</td>\n",
       "    </tr>\n",
       "    <tr>\n",
       "      <th>75%</th>\n",
       "      <td>81.0</td>\n",
       "      <td>831.000000</td>\n",
       "      <td>0.000000</td>\n",
       "      <td>29.000000</td>\n",
       "      <td>0.000000</td>\n",
       "      <td>21.000000</td>\n",
       "      <td>20180221.0</td>\n",
       "    </tr>\n",
       "    <tr>\n",
       "      <th>max</th>\n",
       "      <td>81.0</td>\n",
       "      <td>839.000000</td>\n",
       "      <td>1.000000</td>\n",
       "      <td>504.000000</td>\n",
       "      <td>19.000000</td>\n",
       "      <td>23.000000</td>\n",
       "      <td>20180221.0</td>\n",
       "    </tr>\n",
       "  </tbody>\n",
       "</table>\n",
       "</div>"
      ],
      "text/plain": [
       "          省份代码          地市代码      严重卡顿局数占比           总局数        日卡顿用户数  \\\n",
       "count  52839.0  52839.000000  52839.000000  52839.000000  52839.000000   \n",
       "mean      81.0    638.471678      0.016721     23.437877      0.297735   \n",
       "std        0.0    338.084403      0.050723     24.740693      0.722268   \n",
       "min       81.0     28.000000      0.000000      5.000000      0.000000   \n",
       "25%       81.0    812.000000      0.000000      9.000000      0.000000   \n",
       "50%       81.0    818.000000      0.000000     15.000000      0.000000   \n",
       "75%       81.0    831.000000      0.000000     29.000000      0.000000   \n",
       "max       81.0    839.000000      1.000000    504.000000     19.000000   \n",
       "\n",
       "             卡顿集中时段      数据报表日期  \n",
       "count  52839.000000     52839.0  \n",
       "mean      16.263745  20180221.0  \n",
       "std        5.288956         0.0  \n",
       "min        0.000000  20180221.0  \n",
       "25%       13.000000  20180221.0  \n",
       "50%       16.000000  20180221.0  \n",
       "75%       21.000000  20180221.0  \n",
       "max       23.000000  20180221.0  "
      ]
     },
     "execution_count": 105,
     "metadata": {},
     "output_type": "execute_result"
    }
   ],
   "source": [
    "df.describe()"
   ]
  },
  {
   "cell_type": "code",
   "execution_count": 110,
   "metadata": {
    "collapsed": true
   },
   "outputs": [],
   "source": [
    "pd11=pd.pivot_table(df,values='日卡顿用户数', index=['地市', ], columns=['卡顿集中时段'])"
   ]
  },
  {
   "cell_type": "markdown",
   "metadata": {},
   "source": [
    "写入csv文件"
   ]
  },
  {
   "cell_type": "code",
   "execution_count": 113,
   "metadata": {
    "collapsed": true
   },
   "outputs": [],
   "source": [
    "pd11.to_csv('Data/pandas/foo.csv')"
   ]
  },
  {
   "cell_type": "code",
   "execution_count": null,
   "metadata": {
    "collapsed": true
   },
   "outputs": [],
   "source": []
  },
  {
   "cell_type": "code",
   "execution_count": null,
   "metadata": {
    "collapsed": true
   },
   "outputs": [],
   "source": []
  }
 ],
 "metadata": {
  "kernelspec": {
   "display_name": "Python 3",
   "language": "python",
   "name": "python3"
  },
  "language_info": {
   "codemirror_mode": {
    "name": "ipython",
    "version": 3
   },
   "file_extension": ".py",
   "mimetype": "text/x-python",
   "name": "python",
   "nbconvert_exporter": "python",
   "pygments_lexer": "ipython3",
   "version": "3.4.3"
  }
 },
 "nbformat": 4,
 "nbformat_minor": 1
}
