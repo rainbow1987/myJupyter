{
 "cells": [
  {
   "cell_type": "markdown",
   "metadata": {
    "slideshow": {
     "slide_type": "slide"
    }
   },
   "source": [
    "## 数据结构\n",
    "\n",
    "\n",
    "- **list**(列表): 支持插入，弹出，索引，切片等\n",
    "\n",
    "\n",
    "- **tuple**(元组): 一经创建不可修改\n",
    "\n",
    "\n",
    "- **set**(集合): 交集，并集等操作\n",
    "\n",
    "\n",
    "- **dict**(字典): 无序的key－val健值对\n",
    "\n",
    "\n",
    "以上四种结构也可以相互嵌套， **list** 和 **dict**是最常用的两个结构。"
   ]
  },
  {
   "cell_type": "markdown",
   "metadata": {
    "slideshow": {
     "slide_type": "slide"
    }
   },
   "source": [
    "## 列表操作"
   ]
  },
  {
   "cell_type": "markdown",
   "metadata": {},
   "source": [
    "### 列表创建"
   ]
  },
  {
   "cell_type": "code",
   "execution_count": 1,
   "metadata": {},
   "outputs": [
    {
     "name": "stdout",
     "output_type": "stream",
     "text": [
      "[1, 1, 2, 3, 5, 8, 13, 21]\n",
      "['a', 'b', 'c', 'd']\n",
      "['a', 1, 'b', 2, 'c', 3, True, False]\n",
      "[[1, 1, 2, 3, 5, 8, 13, 21], ['a', 'b', 'c', 'd'], ['a', 1, 'b', 2, 'c', 3, True, False]]\n"
     ]
    }
   ],
   "source": [
    "fibonacci_numbers = [1, 1, 2, 3, 5, 8, 13, 21]\n",
    "print(fibonacci_numbers)\n",
    "\n",
    "\n",
    "strings = ['a', 'b', 'c', 'd']\n",
    "print(strings)\n",
    "\n",
    "# list内元素支持不同类型的数据；\n",
    "num_str_bool = ['a', 1, 'b', 2, 'c', 3, True, False]\n",
    "print(num_str_bool)\n",
    "\n",
    "# list嵌套\n",
    "print([fibonacci_numbers, strings, num_str_bool])"
   ]
  },
  {
   "cell_type": "code",
   "execution_count": 2,
   "metadata": {
    "scrolled": true
   },
   "outputs": [
    {
     "data": {
      "text/plain": [
       "2"
      ]
     },
     "execution_count": 2,
     "metadata": {},
     "output_type": "execute_result"
    }
   ],
   "source": [
    "fibonacci_numbers = [1, 1, 2, 3, 5, 8, 13, 21]\n",
    "fibonacci_numbers[2]"
   ]
  },
  {
   "cell_type": "code",
   "execution_count": 3,
   "metadata": {},
   "outputs": [
    {
     "data": {
      "text/plain": [
       "[2, 3, 5]"
      ]
     },
     "execution_count": 3,
     "metadata": {},
     "output_type": "execute_result"
    }
   ],
   "source": [
    "fibonacci_numbers[ 2:5 ]"
   ]
  },
  {
   "cell_type": "markdown",
   "metadata": {
    "slideshow": {
     "slide_type": "subslide"
    }
   },
   "source": [
    "### 索引 & 切片\n",
    "\n",
    "Python的索引和切片都是**从0开始**."
   ]
  },
  {
   "cell_type": "code",
   "execution_count": 4,
   "metadata": {},
   "outputs": [
    {
     "name": "stdout",
     "output_type": "stream",
     "text": [
      "[1, 1, 2, 3, 5, 8, 13, 21]\n",
      "第1个元素: 1\n",
      "第4个元素: 3\n",
      "前3个元素: [1, 1, 2]\n",
      "第4到最后: [3, 5, 8, 13, 21]\n",
      "前3个数: [1, 1, 2]\n"
     ]
    }
   ],
   "source": [
    "print(fibonacci_numbers)\n",
    "\n",
    "# 从0开始\n",
    "print('第1个元素:', fibonacci_numbers[0]) # the first element\n",
    "print('第4个元素:', fibonacci_numbers[3]) # the fourth element\n",
    "\n",
    "# 包含左侧，不包含右侧 \n",
    "print('前3个元素:', fibonacci_numbers[0:3]) # 前三个元素 [0, 3)\n",
    "print('第4到最后:', fibonacci_numbers[3:]) # 第4个到最后\n",
    "print('前3个数:', fibonacci_numbers[:3]) #  前3个数"
   ]
  },
  {
   "cell_type": "markdown",
   "metadata": {
    "slideshow": {
     "slide_type": "subslide"
    }
   },
   "source": [
    "### 添加/删除元素"
   ]
  },
  {
   "cell_type": "code",
   "execution_count": 9,
   "metadata": {},
   "outputs": [
    {
     "name": "stdout",
     "output_type": "stream",
     "text": [
      "[1, 1, 2, 3, 5, 8, 13, 21, 34]\n",
      "[1, 1, 2, 3, 5, 8, 13, 21]\n"
     ]
    }
   ],
   "source": [
    "fb = [1, 1, 2, 3, 5, 8, 13, 21]\n",
    "\n",
    "fb.append(34) # 添加一个元素\n",
    "print(fb)\n",
    "\n",
    "fb.pop() #删除一个元素\n",
    "print(fb)"
   ]
  },
  {
   "cell_type": "markdown",
   "metadata": {
    "slideshow": {
     "slide_type": "slide"
    }
   },
   "source": [
    "## 字典\n",
    "\n",
    "{key: value}的健－值对，从字典从取出某个健对应的值的复杂度为O(1)。"
   ]
  },
  {
   "cell_type": "code",
   "execution_count": 10,
   "metadata": {},
   "outputs": [
    {
     "name": "stdout",
     "output_type": "stream",
     "text": [
      "{'gender': 'male', 'height': 1.75, 'age': 30}\n",
      "male\n",
      "False\n",
      "没找到\n"
     ]
    }
   ],
   "source": [
    "someone = {'gender': 'male', 'height': 1.75, 'age': 30}\n",
    "print(someone)\n",
    "print(someone['gender']) # 取出sex对应的值\n",
    "print('location' in someone) # 是否含有location这个健\n",
    "print(someone.get('skill', '没找到')) # 取出skill健对应的值，不存在则返回'python'"
   ]
  },
  {
   "cell_type": "code",
   "execution_count": 11,
   "metadata": {
    "slideshow": {
     "slide_type": "fragment"
    }
   },
   "outputs": [
    {
     "name": "stdout",
     "output_type": "stream",
     "text": [
      "dict_keys(['gender', 'height', 'age'])\n",
      "dict_values(['male', 1.75, 30])\n",
      "dict_items([('gender', 'male'), ('height', 1.75), ('age', 30)])\n"
     ]
    }
   ],
   "source": [
    "print(someone.keys()) \n",
    "print(someone.values())\n",
    "print(someone.items()) # 转为有序的list"
   ]
  },
  {
   "cell_type": "markdown",
   "metadata": {
    "slideshow": {
     "slide_type": "slide"
    }
   },
   "source": [
    "## 元组 & 集合"
   ]
  },
  {
   "cell_type": "code",
   "execution_count": 12,
   "metadata": {},
   "outputs": [
    {
     "name": "stdout",
     "output_type": "stream",
     "text": [
      "<class 'tuple'>\n",
      "age\n",
      "30\n",
      "[1, 2, 1, 3]\n",
      "{1, 2, 3}\n",
      "<class 'set'>\n"
     ]
    }
   ],
   "source": [
    "tuple_example = ('age', 30) # 只读，有序\n",
    "print(type(tuple_example))\n",
    "print(tuple_example[0])\n",
    "print(tuple_example[1])\n",
    "\n",
    "li = [1,2,1,3]\n",
    "print(li)\n",
    "\n",
    "se = {1,2,1,3}\n",
    "print(se)\n",
    "\n",
    "set_example = {'age', 30}  # 无序，可写\n",
    "print(type(set_example))"
   ]
  },
  {
   "cell_type": "code",
   "execution_count": 13,
   "metadata": {},
   "outputs": [
    {
     "name": "stdout",
     "output_type": "stream",
     "text": [
      "[('gender', 'male'), ('age', 30), ('height', 1.75)]\n"
     ]
    }
   ],
   "source": [
    "# tuple组成的list\n",
    "print(someone.items())"
   ]
  }
 ],
 "metadata": {
  "celltoolbar": "Slideshow",
  "kernelspec": {
   "display_name": "Python 3",
   "language": "python",
   "name": "python3"
  },
  "language_info": {
   "codemirror_mode": {
    "name": "ipython",
    "version": 3
   },
   "file_extension": ".py",
   "mimetype": "text/x-python",
   "name": "python",
   "nbconvert_exporter": "python",
   "pygments_lexer": "ipython3",
   "version": "3.6.4"
  }
 },
 "nbformat": 4,
 "nbformat_minor": 1
}
