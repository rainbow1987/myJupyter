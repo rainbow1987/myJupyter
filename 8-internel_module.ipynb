{
 "cells": [
  {
   "cell_type": "markdown",
   "metadata": {},
   "source": [
    "math模块"
   ]
  },
  {
   "cell_type": "code",
   "execution_count": 1,
   "metadata": {},
   "outputs": [
    {
     "name": "stdout",
     "output_type": "stream",
     "text": [
      "1.0\n"
     ]
    }
   ],
   "source": [
    "num = 1\n",
    "import math\n",
    "math.sin(num)\n",
    "PI=math.pi\n",
    "print(math.sin(PI/2))"
   ]
  },
  {
   "cell_type": "markdown",
   "metadata": {},
   "source": [
    "time模块"
   ]
  },
  {
   "cell_type": "code",
   "execution_count": 26,
   "metadata": {},
   "outputs": [
    {
     "name": "stdout",
     "output_type": "stream",
     "text": [
      "1521103879.840993\n",
      "2018-03-15 16:51:19\n",
      "2018-03-15 18:19:59\n"
     ]
    }
   ],
   "source": [
    "import time\n",
    "#timestamp时间戳，时间戳表示的是从1970年1月1日00:00:00开始按秒计算的偏移量\n",
    "now =time.time() \n",
    "print(now)\n",
    "\n",
    "print(time.strftime(\"%Y-%m-%d %X\"))  #生成format_time\n",
    "n = '2018年3-15 18:19:59'\n",
    "cday = datetime.strptime(n, '%Y年%m-%d %H:%M:%S')  #将格式字符串转换为datetime对象\n",
    "print(cday)\n"
   ]
  },
  {
   "cell_type": "markdown",
   "metadata": {},
   "source": [
    "random模块"
   ]
  },
  {
   "cell_type": "code",
   "execution_count": 35,
   "metadata": {},
   "outputs": [
    {
     "name": "stdout",
     "output_type": "stream",
     "text": [
      "0.9182387075500849\n",
      "5\n"
     ]
    }
   ],
   "source": [
    "import random\n",
    "print(random.random())\n",
    "print(random.randint(1,10)) # 整数1-10(包括10),随机取一个值"
   ]
  },
  {
   "cell_type": "markdown",
   "metadata": {},
   "source": [
    "os模块"
   ]
  },
  {
   "cell_type": "code",
   "execution_count": 14,
   "metadata": {},
   "outputs": [
    {
     "name": "stdout",
     "output_type": "stream",
     "text": [
      "D:\\JupterHome\\test\n"
     ]
    }
   ],
   "source": [
    "import os\n",
    "print(os.getcwd()) #查看工作目录\n",
    "#os.chdir('D:\\\\JupterHome\\\\scit') #切换工作目录"
   ]
  },
  {
   "cell_type": "code",
   "execution_count": null,
   "metadata": {
    "collapsed": true
   },
   "outputs": [],
   "source": []
  }
 ],
 "metadata": {
  "kernelspec": {
   "display_name": "Python 3",
   "language": "python",
   "name": "python3"
  },
  "language_info": {
   "codemirror_mode": {
    "name": "ipython",
    "version": 3
   },
   "file_extension": ".py",
   "mimetype": "text/x-python",
   "name": "python",
   "nbconvert_exporter": "python",
   "pygments_lexer": "ipython3",
   "version": "3.6.4"
  }
 },
 "nbformat": 4,
 "nbformat_minor": 1
}
