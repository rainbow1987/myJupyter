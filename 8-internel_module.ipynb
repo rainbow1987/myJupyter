{
 "cells": [
  {
   "cell_type": "markdown",
   "metadata": {},
   "source": [
    "math模块"
   ]
  },
  {
   "cell_type": "code",
   "execution_count": 2,
   "metadata": {},
   "outputs": [
    {
     "name": "stdout",
     "output_type": "stream",
     "text": [
      "1.0\n"
     ]
    }
   ],
   "source": [
    "num = 1\n",
    "import math\n",
    "math.sin(num)\n",
    "PI=math.pi\n",
    "print(math.sin(PI/2))\n"
   ]
  },
  {
   "cell_type": "markdown",
   "metadata": {},
   "source": [
    "time模块"
   ]
  },
  {
   "cell_type": "code",
   "execution_count": 3,
   "metadata": {},
   "outputs": [
    {
     "name": "stdout",
     "output_type": "stream",
     "text": [
      "1522575394.298903\n",
      "2018-04-01 17:36:34\n",
      "2018-03-15 18:19:59\n"
     ]
    }
   ],
   "source": [
    "import time\n",
    "from datetime import datetime\n",
    "#timestamp时间戳，时间戳表示的是从1970年1月1日00:00:00开始按秒计算的偏移量\n",
    "now =time.time() \n",
    "print(now)\n",
    "print(time.strftime(\"%Y-%m-%d %X\"))  #生成format_time\n",
    "n = '2018年3-15 18:19:59'\n",
    "cday = datetime.strptime(n, '%Y年%m-%d %H:%M:%S')  #将格式字符串转换为datetime对象\n",
    "print(cday)\n"
   ]
  },
  {
   "cell_type": "markdown",
   "metadata": {},
   "source": [
    "random模块"
   ]
  },
  {
   "cell_type": "code",
   "execution_count": 4,
   "metadata": {},
   "outputs": [
    {
     "name": "stdout",
     "output_type": "stream",
     "text": [
      "119\n"
     ]
    }
   ],
   "source": [
    "import random\n",
    "\n",
    "print(random.randint(100,120)) # 整数1-10(包括10),随机取一个值"
   ]
  },
  {
   "cell_type": "markdown",
   "metadata": {},
   "source": [
    "os模块"
   ]
  },
  {
   "cell_type": "code",
   "execution_count": 5,
   "metadata": {},
   "outputs": [
    {
     "name": "stdout",
     "output_type": "stream",
     "text": [
      "d:\\jupyter\\myJupyter\n"
     ]
    }
   ],
   "source": [
    "import os\n",
    "print(os.getcwd()) #查看工作目录\n",
    "#os.chdir('D:\\\\JupterHome\\\\scit') #切换工作目录"
   ]
  },
  {
   "cell_type": "markdown",
   "metadata": {},
   "source": [
    "hashlib模块（实现MD5等HASH算法）"
   ]
  },
  {
   "cell_type": "code",
   "execution_count": 6,
   "metadata": {},
   "outputs": [
    {
     "name": "stdout",
     "output_type": "stream",
     "text": [
      "202cb962ac59075b964b07152d234b70\n"
     ]
    }
   ],
   "source": [
    "import hashlib\n",
    "\n",
    "md5 = hashlib.md5()\n",
    "md5.update('123'.encode('utf-8'))\n",
    "print(md5.hexdigest())"
   ]
  },
  {
   "cell_type": "code",
   "execution_count": 1,
   "metadata": {},
   "outputs": [
    {
     "name": "stdout",
     "output_type": "stream",
     "text": [
      "c4ca4238a0b923820dcc509a6f75849b\n",
      "c81e728d9d4c2f636f067f89cc14862c\n",
      "eccbc87e4b5ce2fe28308fd9f2a7baf3\n",
      "a87ff679a2f3e71d9181a67b7542122c\n",
      "e4da3b7fbbce2345d7772b0674a318d5\n",
      "1679091c5a880faf6fb5e6087eb1b2dc\n",
      "8f14e45fceea167a5a36dedd4bea2543\n",
      "c9f0f895fb98ab9159f51fd0297e236d\n",
      "45c48cce2e2d7fbdea1afc51c7c6ad26\n",
      "d3d9446802a44259755d38e6d163e820\n"
     ]
    }
   ],
   "source": [
    "import hashlib\n",
    "num =1\n",
    "for i in range(10):\n",
    "\n",
    "    md5 = hashlib.md5()\n",
    "    md5.update(str(num).encode('utf-8'))\n",
    "    print(md5.hexdigest())\n",
    "   \n",
    "    num=num+1"
   ]
  }
 ],
 "metadata": {
  "kernelspec": {
   "display_name": "Python 3",
   "language": "python",
   "name": "python3"
  },
  "language_info": {
   "codemirror_mode": {
    "name": "ipython",
    "version": 3
   },
   "file_extension": ".py",
   "mimetype": "text/x-python",
   "name": "python",
   "nbconvert_exporter": "python",
   "pygments_lexer": "ipython3",
   "version": "3.6.4"
  }
 },
 "nbformat": 4,
 "nbformat_minor": 1
}
