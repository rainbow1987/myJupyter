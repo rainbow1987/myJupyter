{
 "cells": [
  {
   "cell_type": "markdown",
   "metadata": {},
   "source": [
    "运行后，打开浏览器，输入http://localhost:8000/ ， 就可以看到结果了："
   ]
  },
  {
   "cell_type": "code",
   "execution_count": null,
   "metadata": {},
   "outputs": [
    {
     "name": "stdout",
     "output_type": "stream",
     "text": [
      "Serving HTTP on port 80...\n"
     ]
    },
    {
     "name": "stderr",
     "output_type": "stream",
     "text": [
      "127.0.0.1 - - [26/Mar/2018 23:45:47] \"GET / HTTP/1.1\" 200 71\n"
     ]
    }
   ],
   "source": [
    "#!/usr/bin/env python\n",
    "from wsgiref.simple_server import make_server # 从wsgiref模块导入:\n",
    "def application(environ, start_response): # 导入我们自己编写的application函数:\n",
    "    start_response('200 OK', [('Content-Type', 'text/html')])\n",
    "    return [b'<h1>Welcome to  IT training course @SiChuan Tianfu IDC 2018.03!</h1>']\n",
    "httpd = make_server('', 80, application) # 创建一个服务器，IP地址为空，端口是80，处理函数是application\n",
    "print('Serving HTTP on port 80...')\n",
    "\n",
    "httpd.serve_forever() # 开始监听HTTP请求"
   ]
  },
  {
   "cell_type": "code",
   "execution_count": null,
   "metadata": {},
   "outputs": [],
   "source": []
  }
 ],
 "metadata": {
  "kernelspec": {
   "display_name": "Python 3",
   "language": "python",
   "name": "python3"
  },
  "language_info": {
   "codemirror_mode": {
    "name": "ipython",
    "version": 3
   },
   "file_extension": ".py",
   "mimetype": "text/x-python",
   "name": "python",
   "nbconvert_exporter": "python",
   "pygments_lexer": "ipython3",
   "version": "3.6.4"
  }
 },
 "nbformat": 4,
 "nbformat_minor": 2
}
