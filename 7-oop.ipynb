{
 "cells": [
  {
   "cell_type": "markdown",
   "metadata": {
    "slideshow": {
     "slide_type": "slide"
    }
   },
   "source": [
    "## 自定义类"
   ]
  },
  {
   "cell_type": "code",
   "execution_count": 2,
   "metadata": {
    "slideshow": {
     "slide_type": "-"
    }
   },
   "outputs": [],
   "source": [
    "class People:\n",
    "    def __init__(self, name, age):\n",
    "        # 定义类的属性\n",
    "        self.name = name\n",
    "        self.age = age\n",
    "    \n",
    "    def grow(self):\n",
    "        # 定义长大的方法\n",
    "        self.age += 1\n",
    "    \n",
    "    def alterName(self, name):\n",
    "        # 定义改名的方法\n",
    "        self.name = name\n",
    "    \n",
    "    def __str__(self):\n",
    "        # 定义打印时的字符\n",
    "        return '我叫%s, 今年%s岁' %(self.name, self.age)"
   ]
  },
  {
   "cell_type": "code",
   "execution_count": 3,
   "metadata": {},
   "outputs": [
    {
     "name": "stdout",
     "output_type": "stream",
     "text": [
      "韩梅梅 18\n",
      "我叫韩梅梅, 今年18岁\n"
     ]
    }
   ],
   "source": [
    "xm = People('韩梅梅', 18)\n",
    "print(xm.name, xm.age)\n",
    "print(xm)"
   ]
  },
  {
   "cell_type": "code",
   "execution_count": 9,
   "metadata": {},
   "outputs": [
    {
     "name": "stdout",
     "output_type": "stream",
     "text": [
      "韩梅梅 18\n",
      "我叫韩梅梅, 今年18岁\n",
      "我叫韩梅梅, 今年19岁\n",
      "我叫李雷, 今年19岁\n"
     ]
    }
   ],
   "source": [
    "xm = People('韩梅梅', 18)\n",
    "print(xm.name, xm.age)\n",
    "print(xm)\n",
    "\n",
    "xm.grow()\n",
    "print(xm)\n",
    "\n",
    "xm.alterName('李雷')\n",
    "print(xm)"
   ]
  }
 ],
 "metadata": {
  "celltoolbar": "Slideshow",
  "kernelspec": {
   "display_name": "Python 3",
   "language": "python",
   "name": "python3"
  },
  "language_info": {
   "codemirror_mode": {
    "name": "ipython",
    "version": 3
   },
   "file_extension": ".py",
   "mimetype": "text/x-python",
   "name": "python",
   "nbconvert_exporter": "python",
   "pygments_lexer": "ipython3",
   "version": "3.6.4"
  }
 },
 "nbformat": 4,
 "nbformat_minor": 1
}
